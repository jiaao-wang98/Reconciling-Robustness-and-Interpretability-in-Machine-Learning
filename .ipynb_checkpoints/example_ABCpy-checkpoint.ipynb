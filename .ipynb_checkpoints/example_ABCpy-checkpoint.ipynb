{
 "cells": [
  {
   "cell_type": "markdown",
   "metadata": {
    "pycharm": {
     "name": "#%% md\n"
    }
   },
   "source": [
    "[![Binder](https://mybinder.org/badge_logo.svg)](https://mybinder.org/v2/gh/eth-cscs/abcpy/master?filepath=examples%2Fgetting_started.ipynb)\n",
    "\n",
    "# First example of ABCpy inference scheme\n",
    "\n",
    "In this notebook we show how to use ABCpy to quantify parameter uncertainty of a probabilistic model given some observed\n",
    "dataset.\n",
    "\n",
    "## Outline\n",
    "\n",
    "We consider a simple model of group of grown up humans. Specifically, we assume a gaussian distribution to be\n",
    "an appropriate probabilistic model for these kind of observations. This gaussian distribution will have unknown mean and\n",
    "standard deviation parameters; in Bayesian inference, these parameters are considered to be random variables, to which\n",
    "a prior probability distribution is assigned.\n",
    "\n",
    "Then, we assume we have a set of measurements of height of some people, and we want to infer a probability distribution\n",
    "over the parameters. We will perform inference using Approximate Bayesian Computation (ABC), which is a Bayesian\n",
    "inference technique which only requires the ability to simulate from the model.\n",
    "\n",
    "In the following, we will walk through the steps required to do this in ABCpy. For further information, check also\n",
    "[the documentation page]() where this and other examples are presented as well."
   ]
  },
  {
   "cell_type": "markdown",
   "metadata": {
    "pycharm": {
     "name": "#%% md\n"
    }
   },
   "source": [
    "## Probabilistic model\n",
    "\n",
    "In ABCpy, the probabilistic model is defined hierarchically; here, we first defined put uniform priors on the parameters,\n",
    "which are in turn used to define the model for the height. Each element can be assigned an optional"
   ]
  },
  {
   "cell_type": "code",
   "execution_count": 1,
   "metadata": {
    "pycharm": {
     "name": "#%%\n"
    }
   },
   "outputs": [],
   "source": [
    "# define priors\n",
    "from abcpy.continuousmodels import Uniform, Normal as Gaussian\n",
    "mu = Uniform([[150], [200]], name=\"mu\")\n",
    "sigma = Uniform([[5], [25]], name=\"sigma\")\n",
    "# define the model\n",
    "height = Gaussian([mu, sigma], name='height')"
   ]
  },
  {
   "cell_type": "markdown",
   "metadata": {
    "pycharm": {
     "name": "#%% md\n"
    }
   },
   "source": [
    "Each model in ABCpy has to have a `forward_simulate` method, which generates simulations from the model with fixed\n",
    "parameter values:"
   ]
  },
  {
   "cell_type": "code",
   "execution_count": 2,
   "metadata": {
    "pycharm": {
     "name": "#%%\n"
    }
   },
   "outputs": [
    {
     "name": "stdout",
     "output_type": "stream",
     "text": [
      "[array([156.44531668]), array([158.70076655]), array([190.09982202])]\n"
     ]
    }
   ],
   "source": [
    "# generate 3 observations from the model with mean 185 and standard deviation 20\n",
    "x_sim = height.forward_simulate([185, 20], k=3)\n",
    "print(x_sim)"
   ]
  },
  {
   "cell_type": "markdown",
   "metadata": {
    "pycharm": {
     "name": "#%% md\n"
    }
   },
   "source": [
    "As you can see, the above returns a list of 3 simulations, which in this case are 1 dimensional arrays with one single\n",
    "element."
   ]
  },
  {
   "cell_type": "markdown",
   "metadata": {
    "pycharm": {
     "name": "#%% md\n"
    }
   },
   "source": [
    "## Statistics computation\n",
    "ABC algorithms rely on a measure of discrepancy between the observed dataset and the dataset which is simulated from\n",
    "the model. Often, the discrepancy\n",
    "measure is defined by computing a distance between relevant *summary statistics* extracted from the datasets. Here we\n",
    "first define a way to extract *summary statistics* from the dataset:"
   ]
  },
  {
   "cell_type": "code",
   "execution_count": 3,
   "metadata": {
    "pycharm": {
     "name": "#%%\n"
    }
   },
   "outputs": [],
   "source": [
    "from abcpy.statistics import Identity, LinearTransformation\n",
    "import numpy as np\n",
    "statistics_calculator = Identity(degree=2, cross=False)\n",
    "#statistics_calculator = LinearTransformation(degree=2, cross=False, coefficients=np.array([2]))"
   ]
  },
  {
   "cell_type": "markdown",
   "metadata": {
    "pycharm": {
     "name": "#%% md\n"
    }
   },
   "source": [
    "the above defines an `Identity` statistic, which only applies a polynomial expansion to the data up to the chosen degree\n",
    " (2 here) and optionally adds cross product terms between all the terms in each observation. Let's see how this works:"
   ]
  },
  {
   "cell_type": "code",
   "execution_count": 4,
   "metadata": {
    "pycharm": {
     "name": "#%%\n"
    }
   },
   "outputs": [
    {
     "name": "stdout",
     "output_type": "stream",
     "text": [
      "(3, 2)\n",
      "[  158.70076655 25185.93330218]\n"
     ]
    }
   ],
   "source": [
    "stat_sim = statistics_calculator.statistics(x_sim)\n",
    "print(stat_sim.shape)\n",
    "print(stat_sim[1])"
   ]
  },
  {
   "cell_type": "markdown",
   "metadata": {},
   "source": [
    "The statistic calculator returns a numpy array in which `stat_sim[i]` is the set of statistics corresponding to the\n",
    "i-th observation in `x_sim`, which in this case is composed of two elements (the first and second power of the simulated\n",
    "data).\n"
   ]
  },
  {
   "cell_type": "markdown",
   "metadata": {
    "pycharm": {
     "name": "#%% md\n"
    }
   },
   "source": [
    "## Discrepany measure\n",
    "\n",
    "Next we define the discrepancy measure between the datasets, by defining a distance function (we choose here the\n",
    "Euclidean one) between the extracted summary statistics."
   ]
  },
  {
   "cell_type": "code",
   "execution_count": 5,
   "metadata": {
    "pycharm": {
     "name": "#%%\n"
    }
   },
   "outputs": [],
   "source": [
    "from abcpy.distances import Euclidean\n",
    "distance_calculator = Euclidean(statistics_calculator)"
   ]
  },
  {
   "cell_type": "markdown",
   "metadata": {
    "pycharm": {
     "name": "#%% md\n"
    }
   },
   "source": [
    "Note that the `Distance` object takes as an argument a statistics_calculator; in fact, when calling the corresponding\n",
    "`distance` method on two dataset, the statistics are computed automatically and the distance between them evaluated:"
   ]
  },
  {
   "cell_type": "code",
   "execution_count": 6,
   "metadata": {
    "pycharm": {
     "name": "#%%\n"
    }
   },
   "outputs": [
    {
     "name": "stdout",
     "output_type": "stream",
     "text": [
      "16480.752827917604\n"
     ]
    }
   ],
   "source": [
    "# generate two observation:\n",
    "x_1 = height.forward_simulate([185, 20], k=1)\n",
    "x_2 = height.forward_simulate([170, 20], k=1)\n",
    "\n",
    "print(distance_calculator.distance(x_1, x_2))"
   ]
  },
  {
   "cell_type": "markdown",
   "metadata": {
    "pycharm": {
     "name": "#%% md\n"
    }
   },
   "source": [
    "## Inference\n",
    "\n",
    "In order to perform inference, an inference algorithm is required. However, we also need to specify a\n",
    "parallelization backend; here, we use the `BackendDummy` one, which does not parallelize and is useful for debug and\n",
    "testing; however, ABCpy allows distribution of simulations from the model through MPI and Apache Spark\n",
    "(see [here](https://abcpy.readthedocs.io/en/latest/parallelization.html))."
   ]
  },
  {
   "cell_type": "code",
   "execution_count": 7,
   "metadata": {
    "pycharm": {
     "name": "#%%\n"
    }
   },
   "outputs": [],
   "source": [
    "from abcpy.backends import BackendDummy as Backend\n",
    "backend = Backend()"
   ]
  },
  {
   "cell_type": "markdown",
   "metadata": {
    "pycharm": {
     "name": "#%% md\n"
    }
   },
   "source": [
    "Now, we define the inference algorithm. For simplicity, we use here the basic RejectionABC algorithm. Note that ABCpy implements several\n",
    "more efficient algorithms, which are listed [here](https://abcpy.readthedocs.io/en/latest/getting_started.html#inference-schemes).\n",
    "\n",
    "To instantiate an inference algorithm, we need to pass to it the model, the distance calculator that will be used\n",
    "during inference and the parallelization backed. We can also pass a seed for random numbers reproducibility:"
   ]
  },
  {
   "cell_type": "code",
   "execution_count": 8,
   "metadata": {
    "pycharm": {
     "name": "#%%\n"
    }
   },
   "outputs": [],
   "source": [
    "from abcpy.inferences import RejectionABC\n",
    "sampler = RejectionABC([height], [distance_calculator], backend, seed=1)"
   ]
  },
  {
   "cell_type": "markdown",
   "metadata": {
    "pycharm": {
     "name": "#%% md\n"
    }
   },
   "source": [
    "Note that both the model and the distance calculator have to be passed in a list; this may seem superfluous, but the\n",
    " reason is that in ABCpy it is possible to perform inference with models which describe different observations but\n",
    " depend on a common set of parameters; see more details [here](https://abcpy.readthedocs.io/en/latest/getting_started.html#hierarchical-model)."
   ]
  },
  {
   "cell_type": "markdown",
   "metadata": {
    "pycharm": {
     "name": "#%% md\n"
    }
   },
   "source": [
    "We now generate an observation from which inference is performed:"
   ]
  },
  {
   "cell_type": "code",
   "execution_count": 9,
   "metadata": {
    "pycharm": {
     "name": "#%%\n"
    }
   },
   "outputs": [],
   "source": [
    "height_obs = height.forward_simulate([170, 15], k=50)"
   ]
  },
  {
   "cell_type": "markdown",
   "metadata": {},
   "source": [
    "Finally, we perform sampling by calling the `sample` method in the sampler. We require to obtain 250 posterior samples\n",
    "(`n_sample` parameter); during the inference procedure, we generate 10 simulations for each parameter value with which\n",
    "to compute the distance from the observation. RejectionABC accepts all parameter values (generated from priors) for\n",
    "which the corresponding distance (between observation and simulated dataset) is smaller than `epsilon`:"
   ]
  },
  {
   "cell_type": "code",
   "execution_count": null,
   "metadata": {
    "pycharm": {
     "name": "#%%\n"
    }
   },
   "outputs": [],
   "source": [
    "# this may take a while according to the setup\n",
    "n_sample, n_samples_per_param = 250, 10\n",
    "epsilon = 5000\n",
    "journal = sampler.sample([height_obs], n_sample, n_samples_per_param, epsilon)"
   ]
  },
  {
   "cell_type": "code",
   "execution_count": null,
   "metadata": {},
   "outputs": [],
   "source": [
    "journal = sampler.sample([height_obs], n_sample, n_samples_per_param, epsilon)\n",
    "print(\"Posterior mean\", journal.posterior_mean())\n",
    "print(\"Covariance matrix:\")\n",
    "print(journal.posterior_cov())"
   ]
  },
  {
   "cell_type": "markdown",
   "metadata": {
    "pycharm": {
     "name": "#%% md\n"
    }
   },
   "source": [
    "Note that here again the observation is passed in a list; if we were performing inference on multiple models at once,\n",
    "the list would contain an observation for each model.\n",
    "\n",
    "## Results postprocessing\n",
    "Now, the inference results are stored in the `journal` file. We can analyse that in several ways; for instance, we can\n",
    "get the parameter posterior samples:"
   ]
  },
  {
   "cell_type": "code",
   "execution_count": null,
   "metadata": {
    "pycharm": {
     "name": "#%%\n"
    }
   },
   "outputs": [],
   "source": [
    "params = journal.get_parameters()  # this returns a dict whose keys are parameter names\n",
    "print(\"Number of posterior samples: {}\".format(len(params['mu'])))\n",
    "print(\"10 posterior samples for mu:\")\n",
    "print(params['mu'][0:10])"
   ]
  },
  {
   "cell_type": "markdown",
   "metadata": {
    "pycharm": {
     "name": "#%% md\n"
    }
   },
   "source": [
    "We can also get the posterior mean and covariance matrix:"
   ]
  },
  {
   "cell_type": "code",
   "execution_count": null,
   "metadata": {
    "pycharm": {
     "name": "#%%\n"
    }
   },
   "outputs": [],
   "source": [
    "print(\"Posterior mean\", journal.posterior_mean())\n",
    "print(\"Covariance matrix:\")\n",
    "print(journal.posterior_cov())"
   ]
  },
  {
   "cell_type": "markdown",
   "metadata": {
    "pycharm": {
     "name": "#%% md\n"
    }
   },
   "source": [
    "The journal also stores the configuration of the sampler with which it was generated:"
   ]
  },
  {
   "cell_type": "code",
   "execution_count": null,
   "metadata": {
    "pycharm": {
     "name": "#%%\n"
    }
   },
   "outputs": [],
   "source": [
    "print(journal.configuration)"
   ]
  },
  {
   "cell_type": "markdown",
   "metadata": {
    "pycharm": {
     "name": "#%% md\n"
    }
   },
   "source": [
    "Finally, we have a function to plot a kernel density estimate of the obtained posterior; this function has many\n",
    "arguments, allowing to get custom plots:"
   ]
  },
  {
   "cell_type": "code",
   "execution_count": null,
   "metadata": {
    "pycharm": {
     "name": "#%%\n"
    }
   },
   "outputs": [],
   "source": [
    "journal.plot_posterior_distr(true_parameter_values=[170,15])"
   ]
  },
  {
   "cell_type": "markdown",
   "metadata": {
    "pycharm": {
     "name": "#%% md\n"
    }
   },
   "source": [
    "Also, we can save the journal to disk and reload it later:\n"
   ]
  },
  {
   "cell_type": "code",
   "execution_count": null,
   "metadata": {
    "pycharm": {
     "name": "#%%\n"
    }
   },
   "outputs": [],
   "source": [
    "from abcpy.output import Journal\n",
    "journal.save(\"experiments.jnl\")\n",
    "new_journal = Journal.fromFile('experiments.jnl')"
   ]
  },
  {
   "cell_type": "markdown",
   "metadata": {},
   "source": [
    "# Experiments to improve the result"
   ]
  },
  {
   "cell_type": "code",
   "execution_count": 1,
   "metadata": {},
   "outputs": [],
   "source": [
    "from abcpy.continuousmodels import Uniform, Normal as Gaussian\n",
    "from abcpy.statistics import Identity, LinearTransformation\n",
    "import numpy as np\n",
    "from abcpy.distances import Euclidean\n",
    "from abcpy.backends import BackendDummy as Backend\n",
    "from abcpy.inferences import RejectionABC\n",
    "\n",
    "# define priors\n",
    "mu = Uniform([[150], [200]], name=\"mu\")\n",
    "sigma = Uniform([[5], [25]], name=\"sigma\")\n",
    "# define the model\n",
    "height = Gaussian([mu, sigma], name='height')\n",
    "\n",
    "statistics_calculator = Identity(degree=2, cross=False)\n",
    "distance_calculator = Euclidean(statistics_calculator)\n",
    "backend = Backend()\n",
    "\n",
    "sampler = RejectionABC([height], [distance_calculator], backend, seed=1)\n",
    "\n",
    "height_obs = height.forward_simulate([170, 15], k=50)"
   ]
  },
  {
   "cell_type": "code",
   "execution_count": 4,
   "metadata": {},
   "outputs": [
    {
     "name": "stdout",
     "output_type": "stream",
     "text": [
      "Posterior mean {'mu': 174.082358109774, 'sigma': 9.896525105115025}\n",
      "Covariance matrix:\n",
      "(array([[41.10626216,  0.56391029],\n",
      "       [ 0.56391029, 11.39813444]]), dict_keys(['mu', 'sigma']))\n",
      "Posterior mean {'mu': 173.83917055465642, 'sigma': 9.687284610823793}\n",
      "Covariance matrix:\n",
      "(array([[50.45603079, -0.55852689],\n",
      "       [-0.55852689, 14.51555156]]), dict_keys(['mu', 'sigma']))\n",
      "Posterior mean {'mu': 174.15828005466713, 'sigma': 10.001145343308574}\n",
      "Covariance matrix:\n",
      "(array([[44.07811931,  1.77485313],\n",
      "       [ 1.77485313, 13.69988849]]), dict_keys(['mu', 'sigma']))\n",
      "Posterior mean {'mu': 175.0609435894026, 'sigma': 9.52964254591091}\n",
      "Covariance matrix:\n",
      "(array([[45.95145524, -0.76151904],\n",
      "       [-0.76151904, 11.62176245]]), dict_keys(['mu', 'sigma']))\n",
      "Posterior mean {'mu': 174.4322950114626, 'sigma': 9.801025571754039}\n",
      "Covariance matrix:\n",
      "(array([[42.41921684,  0.97114856],\n",
      "       [ 0.97114856, 12.24645914]]), dict_keys(['mu', 'sigma']))\n",
      "Posterior mean {'mu': 173.88641140653039, 'sigma': 10.105441905714764}\n",
      "Covariance matrix:\n",
      "(array([[44.05306004,  1.41995491],\n",
      "       [ 1.41995491, 14.26854639]]), dict_keys(['mu', 'sigma']))\n",
      "Posterior mean {'mu': 174.02048149969468, 'sigma': 10.33904296203491}\n",
      "Covariance matrix:\n",
      "(array([[42.71065372,  1.18543734],\n",
      "       [ 1.18543734, 15.6321555 ]]), dict_keys(['mu', 'sigma']))\n",
      "Posterior mean {'mu': 174.41779998873335, 'sigma': 9.899830166188835}\n",
      "Covariance matrix:\n",
      "(array([[39.92402425,  0.14948013],\n",
      "       [ 0.14948013, 16.83238459]]), dict_keys(['mu', 'sigma']))\n",
      "Posterior mean {'mu': 174.33148651861524, 'sigma': 9.765011671637625}\n",
      "Covariance matrix:\n",
      "(array([[44.79126657, -1.38527752],\n",
      "       [-1.38527752, 13.66184644]]), dict_keys(['mu', 'sigma']))\n",
      "Posterior mean {'mu': 174.6636801163647, 'sigma': 10.23540555203797}\n",
      "Covariance matrix:\n",
      "(array([[40.34133447, -1.73242348],\n",
      "       [-1.73242348, 13.82483335]]), dict_keys(['mu', 'sigma']))\n"
     ]
    }
   ],
   "source": [
    "# Try 100 times\n",
    "\n",
    "n_sample, n_samples_per_param = 250, 10\n",
    "epsilon = 5000\n",
    "\n",
    "for i in range(10):\n",
    "    journal = sampler.sample([height_obs], n_sample, n_samples_per_param, epsilon)\n",
    "    print(\"Posterior mean\", journal.posterior_mean())\n",
    "    print(\"Covariance matrix:\")\n",
    "    print(journal.posterior_cov())"
   ]
  },
  {
   "cell_type": "code",
   "execution_count": 5,
   "metadata": {},
   "outputs": [],
   "source": [
    "# define priors\n",
    "mu = Uniform([[150], [200]], name=\"mu\")\n",
    "sigma = Uniform([[5], [25]], name=\"sigma\")\n",
    "# define the model\n",
    "height = Gaussian([mu, sigma], name='height')\n",
    "\n",
    "statistics_calculator = Identity(degree=2, cross=False)\n",
    "distance_calculator = Euclidean(statistics_calculator)\n",
    "backend = Backend()\n",
    "\n",
    "sampler = RejectionABC([height], [distance_calculator], backend, seed=1)\n",
    "\n",
    "height_obs = height.forward_simulate([170, 15], k=50)"
   ]
  },
  {
   "cell_type": "code",
   "execution_count": 6,
   "metadata": {
    "scrolled": false
   },
   "outputs": [
    {
     "name": "stdout",
     "output_type": "stream",
     "text": [
      "Posterior mean {'mu': 170.6988724876613, 'sigma': 9.44350588271045}\n",
      "Covariance matrix:\n",
      "(array([[39.5407604 , -2.41831168],\n",
      "       [-2.41831168, 12.79642855]]), dict_keys(['mu', 'sigma']))\n",
      "Posterior mean {'mu': 169.5579235796013, 'sigma': 9.3911871125684}\n",
      "Covariance matrix:\n",
      "(array([[40.95262594, -0.69749393],\n",
      "       [-0.69749393, 10.21814037]]), dict_keys(['mu', 'sigma']))\n",
      "Posterior mean {'mu': 170.72741861141932, 'sigma': 9.38092926554344}\n",
      "Covariance matrix:\n",
      "(array([[39.50183866, -1.32462216],\n",
      "       [-1.32462216, 12.00578552]]), dict_keys(['mu', 'sigma']))\n",
      "Posterior mean {'mu': 169.89214768098708, 'sigma': 9.695339564603016}\n",
      "Covariance matrix:\n",
      "(array([[41.95361173, -1.08807148],\n",
      "       [-1.08807148, 14.08547688]]), dict_keys(['mu', 'sigma']))\n",
      "Posterior mean {'mu': 170.03590448306005, 'sigma': 9.756190671741049}\n",
      "Covariance matrix:\n",
      "(array([[40.26777121,  1.54237023],\n",
      "       [ 1.54237023, 13.53644171]]), dict_keys(['mu', 'sigma']))\n",
      "Posterior mean {'mu': 169.93372593548875, 'sigma': 9.503251245410043}\n",
      "Covariance matrix:\n",
      "(array([[40.22416213,  0.78702344],\n",
      "       [ 0.78702344, 12.99363295]]), dict_keys(['mu', 'sigma']))\n",
      "Posterior mean {'mu': 170.08648634809575, 'sigma': 9.846144157950468}\n",
      "Covariance matrix:\n",
      "(array([[42.10557629,  1.156811  ],\n",
      "       [ 1.156811  , 13.74012539]]), dict_keys(['mu', 'sigma']))\n",
      "Posterior mean {'mu': 169.8789688713075, 'sigma': 9.571716377598227}\n",
      "Covariance matrix:\n",
      "(array([[38.41358119, -1.38137181],\n",
      "       [-1.38137181, 10.90175769]]), dict_keys(['mu', 'sigma']))\n",
      "Posterior mean {'mu': 169.46296038446962, 'sigma': 9.810697567969223}\n",
      "Covariance matrix:\n",
      "(array([[47.67623981,  1.8293893 ],\n",
      "       [ 1.8293893 , 13.13479184]]), dict_keys(['mu', 'sigma']))\n",
      "Posterior mean {'mu': 169.60338923826666, 'sigma': 9.619173218081578}\n",
      "Covariance matrix:\n",
      "(array([[39.45600489,  1.8532288 ],\n",
      "       [ 1.8532288 , 12.14444832]]), dict_keys(['mu', 'sigma']))\n"
     ]
    }
   ],
   "source": [
    "for i in range(10):\n",
    "    journal = sampler.sample([height_obs], n_sample, n_samples_per_param, epsilon)\n",
    "    print(\"Posterior mean\", journal.posterior_mean())\n",
    "    print(\"Covariance matrix:\")\n",
    "    print(journal.posterior_cov())"
   ]
  },
  {
   "cell_type": "markdown",
   "metadata": {},
   "source": [
    "Now we can change some hyper-parameters."
   ]
  },
  {
   "cell_type": "code",
   "execution_count": 11,
   "metadata": {},
   "outputs": [],
   "source": [
    "# define priors\n",
    "mu = Uniform([[150], [200]], name=\"mu\")\n",
    "sigma = Uniform([[9], [20]], name=\"sigma\")\n",
    "# define the model\n",
    "height = Gaussian([mu, sigma], name='height')\n",
    "\n",
    "statistics_calculator = Identity(degree=2, cross=False)\n",
    "distance_calculator = Euclidean(statistics_calculator)\n",
    "backend = Backend()\n",
    "\n",
    "sampler = RejectionABC([height], [distance_calculator], backend, seed=1)\n",
    "\n",
    "height_obs = height.forward_simulate([170, 15], k=50)"
   ]
  },
  {
   "cell_type": "code",
   "execution_count": 8,
   "metadata": {},
   "outputs": [
    {
     "name": "stdout",
     "output_type": "stream",
     "text": [
      "Posterior mean {'mu': 172.79381997211672, 'sigma': 11.876557038190164}\n",
      "Covariance matrix:\n",
      "(array([[37.57572185, -1.28711643],\n",
      "       [-1.28711643,  6.68289134]]), dict_keys(['mu', 'sigma']))\n",
      "Posterior mean {'mu': 171.89233062714183, 'sigma': 12.039562236215417}\n",
      "Covariance matrix:\n",
      "(array([[33.9783512 ,  0.79250043],\n",
      "       [ 0.79250043,  6.2438972 ]]), dict_keys(['mu', 'sigma']))\n",
      "Posterior mean {'mu': 172.65862557296012, 'sigma': 11.799172744204593}\n",
      "Covariance matrix:\n",
      "(array([[32.91813058, -1.03175197],\n",
      "       [-1.03175197,  5.37024955]]), dict_keys(['mu', 'sigma']))\n",
      "Posterior mean {'mu': 171.79844679012695, 'sigma': 12.098152999625126}\n",
      "Covariance matrix:\n",
      "(array([[40.95004919,  0.1451407 ],\n",
      "       [ 0.1451407 ,  7.17654101]]), dict_keys(['mu', 'sigma']))\n",
      "Posterior mean {'mu': 171.89345146839105, 'sigma': 12.11374237529622}\n",
      "Covariance matrix:\n",
      "(array([[37.72134773,  1.18121986],\n",
      "       [ 1.18121986,  6.16888544]]), dict_keys(['mu', 'sigma']))\n",
      "Posterior mean {'mu': 171.99882609505923, 'sigma': 11.995573229849605}\n",
      "Covariance matrix:\n",
      "(array([[37.27914622,  0.31989949],\n",
      "       [ 0.31989949,  5.75961453]]), dict_keys(['mu', 'sigma']))\n",
      "Posterior mean {'mu': 171.75061554537194, 'sigma': 12.127868905266329}\n",
      "Covariance matrix:\n",
      "(array([[33.81969884,  0.23374457],\n",
      "       [ 0.23374457,  6.09693818]]), dict_keys(['mu', 'sigma']))\n",
      "Posterior mean {'mu': 171.85008634871366, 'sigma': 12.011507564164582}\n",
      "Covariance matrix:\n",
      "(array([[30.53804776, -0.06472276],\n",
      "       [-0.06472276,  5.66053035]]), dict_keys(['mu', 'sigma']))\n",
      "Posterior mean {'mu': 172.06209379932315, 'sigma': 11.9785128585042}\n",
      "Covariance matrix:\n",
      "(array([[40.36931306, -0.74133511],\n",
      "       [-0.74133511,  5.67295805]]), dict_keys(['mu', 'sigma']))\n",
      "Posterior mean {'mu': 172.25051559002353, 'sigma': 12.451926760484778}\n",
      "Covariance matrix:\n",
      "(array([[32.83325697,  1.61453976],\n",
      "       [ 1.61453976,  7.42262896]]), dict_keys(['mu', 'sigma']))\n"
     ]
    }
   ],
   "source": [
    "for i in range(10):\n",
    "    journal = sampler.sample([height_obs], n_sample, n_samples_per_param, epsilon)\n",
    "    print(\"Posterior mean\", journal.posterior_mean())\n",
    "    print(\"Covariance matrix:\")\n",
    "    print(journal.posterior_cov())"
   ]
  },
  {
   "cell_type": "markdown",
   "metadata": {},
   "source": [
    "## Adjust $\\epsilon$"
   ]
  },
  {
   "cell_type": "code",
   "execution_count": 1,
   "metadata": {},
   "outputs": [],
   "source": [
    "from abcpy.continuousmodels import Uniform, Normal as Gaussian\n",
    "from abcpy.statistics import Identity, LinearTransformation\n",
    "import numpy as np\n",
    "from abcpy.distances import Euclidean\n",
    "from abcpy.backends import BackendDummy as Backend\n",
    "from abcpy.inferences import RejectionABC\n",
    "\n",
    "# define priors\n",
    "mu = Uniform([[150], [200]], name=\"mu\")\n",
    "sigma = Uniform([[9], [20]], name=\"sigma\")\n",
    "# define the model\n",
    "height = Gaussian([mu, sigma], name='height')\n",
    "\n",
    "statistics_calculator = Identity(degree=2, cross=False)\n",
    "distance_calculator = Euclidean(statistics_calculator)\n",
    "backend = Backend()\n",
    "\n",
    "sampler = RejectionABC([height], [distance_calculator], backend, seed=1)\n",
    "\n",
    "height_obs = height.forward_simulate([170, 15], k=50)"
   ]
  },
  {
   "cell_type": "code",
   "execution_count": 3,
   "metadata": {},
   "outputs": [
    {
     "name": "stdout",
     "output_type": "stream",
     "text": [
      "Posterior mean {'mu': 168.4240167715241, 'sigma': 12.508170830012038}\n",
      "Covariance matrix:\n",
      "(array([[46.64606622,  0.29324402],\n",
      "       [ 0.29324402,  6.99693676]]), dict_keys(['mu', 'sigma']))\n",
      "Posterior mean {'mu': 167.3236015613427, 'sigma': 12.514111112977224}\n",
      "Covariance matrix:\n",
      "(array([[44.74614526, -0.63807765],\n",
      "       [-0.63807765,  6.46171534]]), dict_keys(['mu', 'sigma']))\n",
      "Posterior mean {'mu': 167.12310142529327, 'sigma': 12.529823568286142}\n",
      "Covariance matrix:\n",
      "(array([[49.667755  , -1.73413511],\n",
      "       [-1.73413511,  7.18426007]]), dict_keys(['mu', 'sigma']))\n",
      "Posterior mean {'mu': 166.37081388915416, 'sigma': 12.903049812326088}\n",
      "Covariance matrix:\n",
      "(array([[44.77934554, -1.34030285],\n",
      "       [-1.34030285,  8.33594468]]), dict_keys(['mu', 'sigma']))\n",
      "Posterior mean {'mu': 166.68906871743573, 'sigma': 12.695831740386009}\n",
      "Covariance matrix:\n",
      "(array([[45.02798914, -0.22259543],\n",
      "       [-0.22259543,  7.02127114]]), dict_keys(['mu', 'sigma']))\n",
      "Posterior mean {'mu': 166.39428534782195, 'sigma': 12.509126210123505}\n",
      "Covariance matrix:\n",
      "(array([[43.27536919,  0.83781447],\n",
      "       [ 0.83781447,  5.96983923]]), dict_keys(['mu', 'sigma']))\n",
      "Posterior mean {'mu': 166.62222070991683, 'sigma': 12.53548169592706}\n",
      "Covariance matrix:\n",
      "(array([[43.59813834, -0.33685579],\n",
      "       [-0.33685579,  6.71674399]]), dict_keys(['mu', 'sigma']))\n",
      "Posterior mean {'mu': 166.95288520408695, 'sigma': 12.438251460502}\n",
      "Covariance matrix:\n",
      "(array([[42.41089911,  1.26408279],\n",
      "       [ 1.26408279,  7.26351443]]), dict_keys(['mu', 'sigma']))\n",
      "Posterior mean {'mu': 166.89392616490397, 'sigma': 12.576082360853048}\n",
      "Covariance matrix:\n",
      "(array([[43.00233254, -1.18887287],\n",
      "       [-1.18887287,  7.4869645 ]]), dict_keys(['mu', 'sigma']))\n",
      "Posterior mean {'mu': 167.30005775499146, 'sigma': 12.811613171298225}\n",
      "Covariance matrix:\n",
      "(array([[43.29038877,  1.96070038],\n",
      "       [ 1.96070038,  6.77595059]]), dict_keys(['mu', 'sigma']))\n"
     ]
    }
   ],
   "source": [
    "# Try 100 times\n",
    "\n",
    "n_sample, n_samples_per_param = 250, 10\n",
    "epsilon = 5000\n",
    "\n",
    "for i in range(10):\n",
    "    journal = sampler.sample([height_obs], n_sample, n_samples_per_param, epsilon)\n",
    "    print(\"Posterior mean\", journal.posterior_mean())\n",
    "    print(\"Covariance matrix:\")\n",
    "    print(journal.posterior_cov())"
   ]
  },
  {
   "cell_type": "code",
   "execution_count": 6,
   "metadata": {},
   "outputs": [
    {
     "name": "stdout",
     "output_type": "stream",
     "text": [
      "Posterior mean {'mu': 167.98556685719998, 'sigma': 11.94007112875411}\n",
      "Covariance matrix:\n",
      "(array([[33.95214286,  0.17577722],\n",
      "       [ 0.17577722,  5.42745645]]), dict_keys(['mu', 'sigma']))\n",
      "Posterior mean {'mu': 166.66350313326313, 'sigma': 11.724252005126736}\n",
      "Covariance matrix:\n",
      "(array([[34.43248176, -0.70438866],\n",
      "       [-0.70438866,  5.94490388]]), dict_keys(['mu', 'sigma']))\n",
      "Posterior mean {'mu': 166.6265988692357, 'sigma': 11.960020593904751}\n",
      "Covariance matrix:\n",
      "(array([[30.21039642, -1.18917498],\n",
      "       [-1.18917498,  5.55670608]]), dict_keys(['mu', 'sigma']))\n",
      "Posterior mean {'mu': 167.9683883757208, 'sigma': 11.748881979500311}\n",
      "Covariance matrix:\n",
      "(array([[32.34622363, -1.0479005 ],\n",
      "       [-1.0479005 ,  4.76290884]]), dict_keys(['mu', 'sigma']))\n",
      "Posterior mean {'mu': 167.9542713960746, 'sigma': 11.712802683367157}\n",
      "Covariance matrix:\n",
      "(array([[35.90613425, -1.38737874],\n",
      "       [-1.38737874,  5.75805822]]), dict_keys(['mu', 'sigma']))\n",
      "Posterior mean {'mu': 167.43955262103404, 'sigma': 11.767367592559134}\n",
      "Covariance matrix:\n",
      "(array([[32.3726762 ,  1.4709019 ],\n",
      "       [ 1.4709019 ,  5.76054044]]), dict_keys(['mu', 'sigma']))\n",
      "Posterior mean {'mu': 167.53210118270556, 'sigma': 12.06580569395451}\n",
      "Covariance matrix:\n",
      "(array([[29.09774907, -2.5606793 ],\n",
      "       [-2.5606793 ,  6.70893896]]), dict_keys(['mu', 'sigma']))\n",
      "Posterior mean {'mu': 167.31993611968528, 'sigma': 12.011864763916408}\n",
      "Covariance matrix:\n",
      "(array([[32.46202843,  1.01082228],\n",
      "       [ 1.01082228,  6.60522554]]), dict_keys(['mu', 'sigma']))\n",
      "Posterior mean {'mu': 166.93230206963486, 'sigma': 12.086433317694311}\n",
      "Covariance matrix:\n",
      "(array([[ 2.89240265e+01, -8.70641763e-03],\n",
      "       [-8.70641763e-03,  6.34462477e+00]]), dict_keys(['mu', 'sigma']))\n",
      "Posterior mean {'mu': 166.9577346673152, 'sigma': 11.88730715700287}\n",
      "Covariance matrix:\n",
      "(array([[34.78686341,  0.52077393],\n",
      "       [ 0.52077393,  6.25411526]]), dict_keys(['mu', 'sigma']))\n"
     ]
    }
   ],
   "source": [
    "# Try 100 times\n",
    "\n",
    "n_sample, n_samples_per_param = 250, 10\n",
    "epsilon = 4500\n",
    "\n",
    "for i in range(10):\n",
    "    journal = sampler.sample([height_obs], n_sample, n_samples_per_param, epsilon)\n",
    "    print(\"Posterior mean\", journal.posterior_mean())\n",
    "    print(\"Covariance matrix:\")\n",
    "    print(journal.posterior_cov())"
   ]
  },
  {
   "cell_type": "code",
   "execution_count": 15,
   "metadata": {},
   "outputs": [
    {
     "name": "stdout",
     "output_type": "stream",
     "text": [
      "Posterior mean {'mu': 168.13573971162643, 'sigma': 8.218819872601806}\n",
      "Covariance matrix:\n",
      "(array([[32.31111766,  0.63739617],\n",
      "       [ 0.63739617,  8.60027862]]), dict_keys(['mu', 'sigma']))\n",
      "Posterior mean {'mu': 168.13573971162643, 'sigma': 8.218819872601806}\n",
      "Covariance matrix:\n",
      "(array([[32.31111766,  0.63739617],\n",
      "       [ 0.63739617,  8.60027862]]), dict_keys(['mu', 'sigma']))\n",
      "Posterior mean {'mu': 168.13573971162643, 'sigma': 8.218819872601806}\n",
      "Covariance matrix:\n",
      "(array([[32.31111766,  0.63739617],\n",
      "       [ 0.63739617,  8.60027862]]), dict_keys(['mu', 'sigma']))\n",
      "Posterior mean {'mu': 168.13573971162643, 'sigma': 8.218819872601806}\n",
      "Covariance matrix:\n",
      "(array([[32.31111766,  0.63739617],\n",
      "       [ 0.63739617,  8.60027862]]), dict_keys(['mu', 'sigma']))\n",
      "Posterior mean {'mu': 168.13573971162643, 'sigma': 8.218819872601806}\n",
      "Covariance matrix:\n",
      "(array([[32.31111766,  0.63739617],\n",
      "       [ 0.63739617,  8.60027862]]), dict_keys(['mu', 'sigma']))\n",
      "Posterior mean {'mu': 168.13573971162643, 'sigma': 8.218819872601806}\n",
      "Covariance matrix:\n",
      "(array([[32.31111766,  0.63739617],\n",
      "       [ 0.63739617,  8.60027862]]), dict_keys(['mu', 'sigma']))\n",
      "Posterior mean {'mu': 168.13573971162643, 'sigma': 8.218819872601806}\n",
      "Covariance matrix:\n",
      "(array([[32.31111766,  0.63739617],\n",
      "       [ 0.63739617,  8.60027862]]), dict_keys(['mu', 'sigma']))\n",
      "Posterior mean {'mu': 168.13573971162643, 'sigma': 8.218819872601806}\n",
      "Covariance matrix:\n",
      "(array([[32.31111766,  0.63739617],\n",
      "       [ 0.63739617,  8.60027862]]), dict_keys(['mu', 'sigma']))\n",
      "Posterior mean {'mu': 168.13573971162643, 'sigma': 8.218819872601806}\n",
      "Covariance matrix:\n",
      "(array([[32.31111766,  0.63739617],\n",
      "       [ 0.63739617,  8.60027862]]), dict_keys(['mu', 'sigma']))\n",
      "Posterior mean {'mu': 168.13573971162643, 'sigma': 8.218819872601806}\n",
      "Covariance matrix:\n",
      "(array([[32.31111766,  0.63739617],\n",
      "       [ 0.63739617,  8.60027862]]), dict_keys(['mu', 'sigma']))\n"
     ]
    }
   ],
   "source": [
    "# Try 100 times\n",
    "\n",
    "n_sample, n_samples_per_param = 250, 10\n",
    "epsilon = 4000\n",
    "\n",
    "for i in range(10):\n",
    "    #journal = sampler.sample([height_obs], n_sample, n_samples_per_param, epsilon)\n",
    "    print(\"Posterior mean\", journal.posterior_mean())\n",
    "    print(\"Covariance matrix:\")\n",
    "    print(journal.posterior_cov())"
   ]
  },
  {
   "cell_type": "markdown",
   "metadata": {},
   "source": [
    "## Change the true distribution"
   ]
  },
  {
   "cell_type": "code",
   "execution_count": 2,
   "metadata": {},
   "outputs": [
    {
     "name": "stdout",
     "output_type": "stream",
     "text": [
      "Posterior mean {'mu': 168.1832380964319, 'sigma': 8.804792082646534}\n",
      "6.174799898979999\n",
      "Posterior mean {'mu': 173.7945390837748, 'sigma': 7.609908587006823}\n",
      "4.270911077268013\n",
      "Posterior mean {'mu': 163.9130216155541, 'sigma': 9.304590723683626}\n",
      "6.848924183926451\n",
      "Posterior mean {'mu': 167.12973968238694, 'sigma': 9.866570104750298}\n",
      "7.586050830950593\n",
      "Posterior mean {'mu': 169.3824573901014, 'sigma': 9.346508545449753}\n",
      "6.8796079607247425\n",
      "Posterior mean {'mu': 169.3373466331486, 'sigma': 10.064134171706053}\n",
      "7.833512119453973\n",
      "Posterior mean {'mu': 169.27037413582173, 'sigma': 8.719872358461558}\n",
      "6.236733983878052\n",
      "Posterior mean {'mu': 170.2998565293545, 'sigma': 9.115420287374997}\n",
      "5.886092283381347\n",
      "Posterior mean {'mu': 166.7736834849068, 'sigma': 10.267912964007795}\n",
      "8.100861043720945\n",
      "Posterior mean {'mu': 171.9995608780263, 'sigma': 10.576212499085544}\n",
      "7.760599893236201\n"
     ]
    }
   ],
   "source": [
    "from abcpy.continuousmodels import Uniform, Normal as Gaussian\n",
    "from abcpy.statistics import Identity, LinearTransformation\n",
    "import numpy as np\n",
    "from abcpy.distances import Euclidean\n",
    "from abcpy.backends import BackendDummy as Backend\n",
    "from abcpy.inferences import RejectionABC\n",
    "\n",
    "# define priors\n",
    "mu = Uniform([[150], [200]], name=\"mu\")\n",
    "sigma = Uniform([[5], [25]], name=\"sigma\")\n",
    "# define the model\n",
    "height = Gaussian([mu, sigma], name='height')\n",
    "\n",
    "statistics_calculator = Identity(degree=2, cross=False)\n",
    "distance_calculator = Euclidean(statistics_calculator)\n",
    "backend = Backend()\n",
    "\n",
    "sampler = RejectionABC([height], [distance_calculator], backend, seed=1)\n",
    "\n",
    "# Try 100 times\n",
    "\n",
    "n_sample, n_samples_per_param = 250, 10\n",
    "epsilon = 5000\n",
    "\n",
    "for i in range(10):\n",
    "    height_obs = height.forward_simulate([170, 15], k=50)\n",
    "    journal = sampler.sample([height_obs], n_sample, n_samples_per_param, epsilon)\n",
    "    print(\"Posterior mean\", journal.posterior_mean())\n",
    "    #print(\"Covariance matrix:\")\n",
    "    #print(journal.posterior_cov())\n",
    "    print(2*np.sqrt(journal.posterior_cov()[0][1][1]))"
   ]
  },
  {
   "cell_type": "code",
   "execution_count": 58,
   "metadata": {},
   "outputs": [
    {
     "name": "stderr",
     "output_type": "stream",
     "text": [
      "/var/folders/m7/0c6k6n3j4dl5gy8xc8rjf3jm0000gn/T/ipykernel_2229/2691086824.py:27: MatplotlibDeprecationWarning: Calling add_axes() without argument is deprecated since 3.3 and will be removed two minor releases later. You may want to use add_subplot() instead.\n",
      "  ax = fig.add_axes()\n"
     ]
    },
    {
     "data": {
      "text/plain": [
       "<Figure size 720x504 with 0 Axes>"
      ]
     },
     "metadata": {},
     "output_type": "display_data"
    },
    {
     "name": "stdout",
     "output_type": "stream",
     "text": [
      "Posterior mean {'mu': 169.54902969042578, 'sigma': 10.462575157175026}\n",
      "8.281489660002432\n",
      "Posterior mean {'mu': 169.8172094187407, 'sigma': 9.875803510113219}\n",
      "6.931720670394547\n",
      "Posterior mean {'mu': 169.6213791052105, 'sigma': 9.464263582218448}\n",
      "6.960596662610296\n",
      "Posterior mean {'mu': 169.6589298341518, 'sigma': 11.050969477285452}\n",
      "8.301181295715216\n",
      "Posterior mean {'mu': 169.9954788452244, 'sigma': 11.141221514128468}\n",
      "8.14717754066075\n"
     ]
    },
    {
     "data": {
      "image/png": "[encoded data removed]",
      "text/plain": [
       "<Figure size 432x288 with 1 Axes>"
      ]
     },
     "metadata": {
      "needs_background": "light"
     },
     "output_type": "display_data"
    }
   ],
   "source": [
    "from abcpy.continuousmodels import Uniform, Normal as Gaussian\n",
    "from abcpy.statistics import Identity, LinearTransformation\n",
    "import numpy as np\n",
    "from abcpy.distances import Euclidean\n",
    "from abcpy.backends import BackendDummy as Backend\n",
    "from abcpy.inferences import RejectionABC\n",
    "\n",
    "# define priors\n",
    "mu = Uniform([[150], [200]], name=\"mu\")\n",
    "sigma = Uniform([[5], [25]], name=\"sigma\")\n",
    "# define the model\n",
    "height = Gaussian([mu, sigma], name='height')\n",
    "\n",
    "statistics_calculator = Identity(degree=2, cross=False)\n",
    "distance_calculator = Euclidean(statistics_calculator)\n",
    "backend = Backend()\n",
    "\n",
    "sampler = RejectionABC([height], [distance_calculator], backend, seed=1)\n",
    "\n",
    "# Try 100 times\n",
    "\n",
    "n_sample, n_samples_per_param = 250, 15\n",
    "epsilon = 5000\n",
    "\n",
    "fig = plt.figure(figsize =(10, 7))\n",
    " # Creating axes instance\n",
    "ax = fig.add_axes()\n",
    "\n",
    "data = [0, 0, 0, 0, 0]\n",
    " \n",
    "\n",
    "for i in range(5):\n",
    "    height_obs = height.forward_simulate([170, 10], k=50)\n",
    "    journal = sampler.sample([height_obs], n_sample, n_samples_per_param, epsilon)\n",
    "    print(\"Posterior mean\", journal.posterior_mean())\n",
    "    #print(\"Covariance matrix:\")\n",
    "    #print(journal.posterior_cov())\n",
    "    print(2*np.sqrt(journal.posterior_cov()[0][1][1]))\n",
    "    \n",
    " \n",
    "    # Creating plot\n",
    "    params = journal.get_parameters()\n",
    "    data[i] = np.array(np.squeeze(params['sigma']))\n",
    "    #bp = plt.boxplot(np.squeeze(params['sigma']))\n",
    "bp = plt.boxplot(data)\n",
    "\n",
    "plt.show()"
   ]
  },
  {
   "cell_type": "code",
   "execution_count": 2,
   "metadata": {},
   "outputs": [
    {
     "name": "stdout",
     "output_type": "stream",
     "text": [
      "Posterior mean {'mu': 167.95701595521854, 'sigma': 11.25183537176152}\n",
      "9.04004308884493\n",
      "Posterior mean {'mu': 170.00749492597686, 'sigma': 10.909974077642312}\n",
      "8.160492125523746\n",
      "Posterior mean {'mu': 169.6491193827086, 'sigma': 11.02871163995692}\n",
      "8.882626531593418\n",
      "Posterior mean {'mu': 169.067294244475, 'sigma': 11.31050098671363}\n",
      "8.354617904553269\n",
      "Posterior mean {'mu': 168.67478461379494, 'sigma': 11.471782443885498}\n",
      "8.295649667553517\n",
      "Posterior mean {'mu': 168.38272496577997, 'sigma': 11.686132834265466}\n",
      "9.488691730655718\n",
      "Posterior mean {'mu': 168.60890470026393, 'sigma': 11.213642893608565}\n",
      "8.624878760945391\n",
      "Posterior mean {'mu': 167.84369072213622, 'sigma': 10.698005112287905}\n",
      "7.692573450708069\n",
      "Posterior mean {'mu': 169.0539942296882, 'sigma': 11.71430435849379}\n",
      "9.129191520992737\n",
      "Posterior mean {'mu': 167.5202665947388, 'sigma': 11.503531310064067}\n",
      "8.401362085599446\n"
     ]
    }
   ],
   "source": [
    "from abcpy.continuousmodels import Uniform, Normal as Gaussian\n",
    "from abcpy.statistics import Identity, LinearTransformation\n",
    "import numpy as np\n",
    "from abcpy.distances import Euclidean\n",
    "from abcpy.backends import BackendDummy as Backend\n",
    "from abcpy.inferences import RejectionABC\n",
    "\n",
    "# define priors\n",
    "mu = Uniform([[150], [200]], name=\"mu\")\n",
    "sigma = Uniform([[5], [25]], name=\"sigma\")\n",
    "# define the model\n",
    "height = Gaussian([mu, sigma], name='height')\n",
    "\n",
    "statistics_calculator = Identity(degree=2, cross=False)\n",
    "distance_calculator = Euclidean(statistics_calculator)\n",
    "backend = Backend()\n",
    "\n",
    "sampler = RejectionABC([height], [distance_calculator], backend, seed=1)\n",
    "\n",
    "# Try 100 times\n",
    "\n",
    "n_sample, n_samples_per_param = 250, 15\n",
    "epsilon = 5000\n",
    "\n",
    "for i in range(10):\n",
    "    height_obs = height.forward_simulate([170, 7], k=50)\n",
    "    journal = sampler.sample([height_obs], n_sample, n_samples_per_param, epsilon)\n",
    "    print(\"Posterior mean\", journal.posterior_mean())\n",
    "    #print(\"Covariance matrix:\")\n",
    "    #print(journal.posterior_cov())\n",
    "    print(2*np.sqrt(journal.posterior_cov()[0][1][1]))"
   ]
  },
  {
   "cell_type": "code",
   "execution_count": 3,
   "metadata": {},
   "outputs": [
    {
     "name": "stdout",
     "output_type": "stream",
     "text": [
      "Posterior mean {'mu': 169.88481232964097, 'sigma': 11.404278388203126}\n",
      "9.255460847792653\n",
      "Posterior mean {'mu': 169.35133118077408, 'sigma': 11.316865210168077}\n",
      "8.782367369652526\n",
      "Posterior mean {'mu': 170.22552212372716, 'sigma': 11.417106633595719}\n",
      "9.048561086894653\n",
      "Posterior mean {'mu': 168.44429428691146, 'sigma': 11.334963827959356}\n",
      "8.485089877478522\n",
      "Posterior mean {'mu': 168.42568927984055, 'sigma': 11.5399744898274}\n",
      "8.390167130658797\n",
      "Posterior mean {'mu': 167.98338204918213, 'sigma': 12.155354130661614}\n",
      "9.841561278401608\n",
      "Posterior mean {'mu': 170.4815934293206, 'sigma': 11.611288513763213}\n",
      "9.189545275478388\n",
      "Posterior mean {'mu': 168.82398181254598, 'sigma': 11.070963989938269}\n",
      "8.034742300429087\n",
      "Posterior mean {'mu': 169.95931318990839, 'sigma': 11.694082885199363}\n",
      "9.031420552039416\n",
      "Posterior mean {'mu': 167.19343263545903, 'sigma': 12.004038690991152}\n",
      "8.634172794962428\n"
     ]
    }
   ],
   "source": [
    "from abcpy.continuousmodels import Uniform, Normal as Gaussian\n",
    "from abcpy.statistics import Identity, LinearTransformation\n",
    "import numpy as np\n",
    "from abcpy.distances import Euclidean\n",
    "from abcpy.backends import BackendDummy as Backend\n",
    "from abcpy.inferences import RejectionABC\n",
    "\n",
    "# define priors\n",
    "mu = Uniform([[150], [200]], name=\"mu\")\n",
    "sigma = Uniform([[5], [25]], name=\"sigma\")\n",
    "# define the model\n",
    "height = Gaussian([mu, sigma], name='height')\n",
    "\n",
    "statistics_calculator = Identity(degree=2, cross=False)\n",
    "distance_calculator = Euclidean(statistics_calculator)\n",
    "backend = Backend()\n",
    "\n",
    "sampler = RejectionABC([height], [distance_calculator], backend, seed=1)\n",
    "\n",
    "# Try 100 times\n",
    "\n",
    "n_sample, n_samples_per_param = 250, 15\n",
    "epsilon = 5000\n",
    "\n",
    "for i in range(10):\n",
    "    height_obs = height.forward_simulate([170, 5], k=50)\n",
    "    journal = sampler.sample([height_obs], n_sample, n_samples_per_param, epsilon)\n",
    "    print(\"Posterior mean\", journal.posterior_mean())\n",
    "    #print(\"Covariance matrix:\")\n",
    "    #print(journal.posterior_cov())\n",
    "    print(2*np.sqrt(journal.posterior_cov()[0][1][1]))"
   ]
  },
  {
   "cell_type": "code",
   "execution_count": 25,
   "metadata": {
    "scrolled": true
   },
   "outputs": [
    {
     "name": "stdout",
     "output_type": "stream",
     "text": [
      "Posterior mean {'mu': 169.074029532174, 'sigma': 11.373417640577202}\n",
      "9.187729401964745\n",
      "Posterior mean {'mu': 169.15924259316188, 'sigma': 11.188174146330594}\n",
      "8.727031558313959\n",
      "Posterior mean {'mu': 169.49697424657597, 'sigma': 11.621272105611668}\n",
      "9.205332730824448\n",
      "Posterior mean {'mu': 168.29164503292884, 'sigma': 11.358925731545988}\n",
      "8.475107439259318\n",
      "Posterior mean {'mu': 169.8074111806503, 'sigma': 11.5962329570437}\n",
      "8.500627635292302\n"
     ]
    }
   ],
   "source": [
    "from abcpy.continuousmodels import Uniform, Normal as Gaussian\n",
    "from abcpy.statistics import Identity, LinearTransformation\n",
    "import numpy as np\n",
    "from abcpy.distances import Euclidean\n",
    "from abcpy.backends import BackendDummy as Backend\n",
    "from abcpy.inferences import RejectionABC\n",
    "\n",
    "# define priors\n",
    "mu = Uniform([[150], [200]], name=\"mu\")\n",
    "sigma = Uniform([[5], [25]], name=\"sigma\")\n",
    "# define the model\n",
    "height = Gaussian([mu, sigma], name='height')\n",
    "\n",
    "statistics_calculator = Identity(degree=2, cross=False)\n",
    "distance_calculator = Euclidean(statistics_calculator)\n",
    "backend = Backend()\n",
    "\n",
    "sampler = RejectionABC([height], [distance_calculator], backend, seed=1)\n",
    "\n",
    "# Try 100 times\n",
    "\n",
    "n_sample, n_samples_per_param = 250, 15\n",
    "epsilon = 5000\n",
    "\n",
    "for i in range(5):\n",
    "    height_obs = height.forward_simulate([170, 5], k=50)\n",
    "    journal = sampler.sample([height_obs], n_sample, n_samples_per_param, epsilon)\n",
    "    print(\"Posterior mean\", journal.posterior_mean())\n",
    "    #print(\"Covariance matrix:\")\n",
    "    #print(journal.posterior_cov())\n",
    "    print(2*np.sqrt(journal.posterior_cov()[0][1][1]))"
   ]
  },
  {
   "cell_type": "markdown",
   "metadata": {},
   "source": [
    "# Measure the distance"
   ]
  },
  {
   "cell_type": "code",
   "execution_count": 1,
   "metadata": {},
   "outputs": [
    {
     "name": "stdout",
     "output_type": "stream",
     "text": [
      "Posterior mean {'mu': 170.20110843818813, 'sigma': 10.468624780447534}\n",
      "Covariance matrix:\n",
      "(array([[53.61198374, -2.25181537],\n",
      "       [-2.25181537, 17.0860099 ]]), dict_keys(['mu', 'sigma']))\n"
     ]
    }
   ],
   "source": [
    "from abcpy.continuousmodels import Uniform, Normal as Gaussian\n",
    "from abcpy.statistics import Identity, LinearTransformation\n",
    "import numpy as np\n",
    "from abcpy.distances import Euclidean\n",
    "from abcpy.backends import BackendDummy as Backend\n",
    "from abcpy.inferences import RejectionABC\n",
    "\n",
    "# define priors\n",
    "mu = Uniform([[150], [200]], name=\"mu\")\n",
    "sigma = Uniform([[5], [25]], name=\"sigma\")\n",
    "# define the model\n",
    "height = Gaussian([mu, sigma], name='height')\n",
    "\n",
    "statistics_calculator = Identity(degree=2, cross=False)\n",
    "distance_calculator = Euclidean(statistics_calculator)\n",
    "backend = Backend()\n",
    "\n",
    "sampler = RejectionABC([height], [distance_calculator], backend, seed=1)\n",
    "\n",
    "# Try 100 times\n",
    "\n",
    "n_sample, n_samples_per_param = 250, 15\n",
    "epsilon = 5000\n",
    "\n",
    "height_obs0 = height.forward_simulate([170, 10], k=50)\n",
    "journal0 = sampler.sample([height_obs0], n_sample, n_samples_per_param, epsilon)\n",
    "print(\"Posterior mean\", journal0.posterior_mean())\n",
    "print(\"Covariance matrix:\")\n",
    "print(journal0.posterior_cov())\n",
    "#print(2*np.sqrt(journal.posterior_cov()[0][1][1]))\n",
    "distance_data = []\n",
    "distance_mean_mu = []\n",
    "distance_mean_sigma = []\n",
    "\n",
    "\n",
    "\n",
    "for i in range(10):\n",
    "    height_obs = height.forward_simulate([170, 10], k=50)\n",
    "    distance_data.append(np.linalg.norm(np.array(height_obs) - np.array(height_obs0)))\n",
    "    journal = sampler.sample([height_obs], n_sample, n_samples_per_param, epsilon)\n",
    "    #print(\"Posterior mean\", journal.posterior_mean())\n",
    "    #print(\"Covariance matrix:\")\n",
    "    #print(journal.posterior_cov())\n",
    "    #print(2*np.sqrt(journal.posterior_cov()[0][1][1]))\n",
    "    distance_mean_mu.append(np.linalg.norm(journal.posterior_mean()['mu'] - journal0.posterior_mean()['mu']))\n",
    "    distance_mean_sigma.append(np.linalg.norm(journal.posterior_mean()['sigma'] - journal0.posterior_mean()['sigma']))\n",
    "    "
   ]
  },
  {
   "cell_type": "code",
   "execution_count": 4,
   "metadata": {},
   "outputs": [
    {
     "data": {
      "image/png": "[encoded data removed]",
      "text/plain": [
       "<Figure size 432x288 with 1 Axes>"
      ]
     },
     "metadata": {
      "needs_background": "light"
     },
     "output_type": "display_data"
    }
   ],
   "source": [
    "import matplotlib.pyplot as plt\n",
    "\n",
    "fig0 = plt.figure()\n",
    "plt.plot(distance_data, distance_mean_mu, 'bo')\n",
    "plt.plot(distance_data, distance_mean_sigma, 'go')\n",
    "plt.show()"
   ]
  },
  {
   "cell_type": "code",
   "execution_count": 5,
   "metadata": {},
   "outputs": [
    {
     "name": "stdout",
     "output_type": "stream",
     "text": [
      "Posterior mean {'mu': 170.40870773971906, 'sigma': 10.540685357784366}\n",
      "Covariance matrix:\n",
      "(array([[55.02066989, -2.03803821],\n",
      "       [-2.03803821, 17.31793419]]), dict_keys(['mu', 'sigma']))\n"
     ]
    }
   ],
   "source": [
    "from abcpy.continuousmodels import Uniform, Normal as Gaussian\n",
    "from abcpy.statistics import Identity, LinearTransformation\n",
    "import numpy as np\n",
    "from abcpy.distances import Euclidean\n",
    "from abcpy.backends import BackendDummy as Backend\n",
    "from abcpy.inferences import RejectionABC\n",
    "\n",
    "# define priors\n",
    "mu = Uniform([[150], [200]], name=\"mu\")\n",
    "sigma = Uniform([[5], [25]], name=\"sigma\")\n",
    "# define the model\n",
    "height = Gaussian([mu, sigma], name='height')\n",
    "\n",
    "statistics_calculator = Identity(degree=2, cross=False)\n",
    "distance_calculator = Euclidean(statistics_calculator)\n",
    "backend = Backend()\n",
    "\n",
    "sampler = RejectionABC([height], [distance_calculator], backend, seed=1)\n",
    "\n",
    "# Try 100 times\n",
    "\n",
    "n_sample, n_samples_per_param = 250, 15\n",
    "epsilon = 5000\n",
    "\n",
    "height_obs0 = height.forward_simulate([170, 10], k=50)\n",
    "journal0 = sampler.sample([height_obs0], n_sample, n_samples_per_param, epsilon)\n",
    "print(\"Posterior mean\", journal0.posterior_mean())\n",
    "print(\"Covariance matrix:\")\n",
    "print(journal0.posterior_cov())\n",
    "#print(2*np.sqrt(journal.posterior_cov()[0][1][1]))\n",
    "distance_data = []\n",
    "distance_mean_mu = []\n",
    "distance_mean_sigma = []\n",
    "\n",
    "\n",
    "\n",
    "for i in range(100):\n",
    "    height_obs = height.forward_simulate([170, 10], k=50)\n",
    "    distance_data.append(np.linalg.norm(np.array(height_obs) - np.array(height_obs0)))\n",
    "    journal = sampler.sample([height_obs], n_sample, n_samples_per_param, epsilon)\n",
    "    #print(\"Posterior mean\", journal.posterior_mean())\n",
    "    #print(\"Covariance matrix:\")\n",
    "    #print(journal.posterior_cov())\n",
    "    #print(2*np.sqrt(journal.posterior_cov()[0][1][1]))\n",
    "    distance_mean_mu.append(np.linalg.norm(journal.posterior_mean()['mu'] - journal0.posterior_mean()['mu']))\n",
    "    distance_mean_sigma.append(np.linalg.norm(journal.posterior_mean()['sigma'] - journal0.posterior_mean()['sigma']))\n",
    "    "
   ]
  },
  {
   "cell_type": "code",
   "execution_count": 6,
   "metadata": {},
   "outputs": [
    {
     "data": {
      "image/png": "[encoded data removed]",
      "text/plain": [
       "<Figure size 432x288 with 1 Axes>"
      ]
     },
     "metadata": {
      "needs_background": "light"
     },
     "output_type": "display_data"
    }
   ],
   "source": [
    "import matplotlib.pyplot as plt\n",
    "\n",
    "fig0 = plt.figure()\n",
    "plt.plot(distance_data, distance_mean_mu, 'bo')\n",
    "plt.plot(distance_data, distance_mean_sigma, 'go')\n",
    "plt.show()"
   ]
  },
  {
   "cell_type": "markdown",
   "metadata": {},
   "source": [
    "## Measure the Hell distance"
   ]
  },
  {
   "cell_type": "code",
   "execution_count": 6,
   "metadata": {},
   "outputs": [],
   "source": [
    "def hell(y0, y1, step = 0.2):\n",
    "    ''' Compute hell distance for two data sets.\n",
    "    :params y0, y1: data\n",
    "            step: width of bins for the histgram\n",
    "    '''\n",
    "    # Interval for the histogram\n",
    "    a = min(np.amin(y0), np.amin(y1))\n",
    "    b = max(np.amax(y0), np.amax(y1))\n",
    "    \n",
    "    # generate histgrams for the two data sets\n",
    "    hist0 = np.histogram(y0, bins = np.arange(a, b, step), density = True)\n",
    "    hist1 = np.histogram(y1, bins = np.arange(a, b, step), density = True)\n",
    "    \n",
    "    return hellinger(hist0[0]/100, hist1[0]/100)\n",
    "\n",
    "def hellinger(p, q):\n",
    "    \"\"\"Hellinger distance between distributions\"\"\"\n",
    "    return np.sqrt(sum([(np.sqrt(t[0])-np.sqrt(t[1]))**2\n",
    "                for t in zip(p,q)])) / np.sqrt(2.)"
   ]
  },
  {
   "cell_type": "code",
   "execution_count": 12,
   "metadata": {},
   "outputs": [
    {
     "name": "stdout",
     "output_type": "stream",
     "text": [
      "Posterior mean {'mu': 170.251240150577, 'sigma': 10.061843261518177}\n",
      "Covariance matrix:\n",
      "(array([[44.16980083, -2.42417874],\n",
      "       [-2.42417874, 14.77988277]]), dict_keys(['mu', 'sigma']))\n"
     ]
    }
   ],
   "source": [
    "from abcpy.continuousmodels import Uniform, Normal as Gaussian\n",
    "from abcpy.statistics import Identity, LinearTransformation\n",
    "import numpy as np\n",
    "from abcpy.distances import Euclidean\n",
    "from abcpy.backends import BackendDummy as Backend\n",
    "from abcpy.inferences import RejectionABC\n",
    "\n",
    "# define priors\n",
    "mu = Uniform([[150], [200]], name=\"mu\")\n",
    "sigma = Uniform([[5], [25]], name=\"sigma\")\n",
    "# define the model\n",
    "height = Gaussian([mu, sigma], name='height')\n",
    "\n",
    "statistics_calculator = Identity(degree=2, cross=False)\n",
    "distance_calculator = Euclidean(statistics_calculator)\n",
    "backend = Backend()\n",
    "\n",
    "sampler = RejectionABC([height], [distance_calculator], backend, seed=1)\n",
    "\n",
    "# Try 100 times\n",
    "\n",
    "n_sample, n_samples_per_param = 250, 15\n",
    "epsilon = 5000\n",
    "\n",
    "height_obs0 = height.forward_simulate([170, 10], k=50)\n",
    "journal0 = sampler.sample([height_obs0], n_sample, n_samples_per_param, epsilon)\n",
    "params0= journal0.get_parameters()\n",
    "print(\"Posterior mean\", journal0.posterior_mean())\n",
    "print(\"Covariance matrix:\")\n",
    "print(journal0.posterior_cov())\n",
    "#print(2*np.sqrt(journal.posterior_cov()[0][1][1]))\n",
    "distance_data = []\n",
    "distance_mean_mu = []\n",
    "distance_mean_sigma = []\n",
    "hell_mu = []\n",
    "hell_sigma = []\n",
    "\n",
    "\n",
    "\n",
    "for i in range(100):\n",
    "    height_obs = height.forward_simulate([170, 10], k=50)\n",
    "    distance_data.append(np.linalg.norm(np.array(height_obs) - np.array(height_obs0)))\n",
    "    journal = sampler.sample([height_obs], n_sample, n_samples_per_param, epsilon)\n",
    "    #print(\"Posterior mean\", journal.posterior_mean())\n",
    "    #print(\"Covariance matrix:\")\n",
    "    #print(journal.posterior_cov())\n",
    "    #print(2*np.sqrt(journal.posterior_cov()[0][1][1]))\n",
    "    \n",
    "    distance_mean_mu.append(np.linalg.norm(journal.posterior_mean()['mu'] - journal0.posterior_mean()['mu']))\n",
    "    distance_mean_sigma.append(np.linalg.norm(journal.posterior_mean()['sigma'] - journal0.posterior_mean()['sigma']))\n",
    "    params = journal.get_parameters()\n",
    "    \n",
    "    hell_mu.append(hell(params0['mu'], params['mu']))\n",
    "    hell_sigma.append(hell(params0['sigma'], params['sigma']))"
   ]
  },
  {
   "cell_type": "code",
   "execution_count": 10,
   "metadata": {},
   "outputs": [
    {
     "name": "stdout",
     "output_type": "stream",
     "text": [
      "[0.10718268864208093, 0.11418718454074979, 0.10817481521109534, 0.11055963434776916, 0.10653477121250199, 0.10296785221693192, 0.10132875995847956, 0.10347912141683681, 0.11582226157777967, 0.10193780436595966]\n",
      "[0.07685668919241755, 0.07711774873037576, 0.07000978832305227, 0.07218946788623591, 0.07887335369535955, 0.07118165226379013, 0.08269001153209411, 0.07624313539258727, 0.08058221986037656, 0.07636233598560112]\n"
     ]
    },
    {
     "data": {
      "image/png": "[encoded data removed]",
      "text/plain": [
       "<Figure size 432x288 with 1 Axes>"
      ]
     },
     "metadata": {
      "needs_background": "light"
     },
     "output_type": "display_data"
    }
   ],
   "source": [
    "import matplotlib.pyplot as plt\n",
    "\n",
    "fig0 = plt.figure()\n",
    "#plt.plot(distance_data, distance_mean_mu, 'bo')\n",
    "#plt.plot(distance_data, distance_mean_sigma, 'go')\n",
    "\n",
    "plt.plot(distance_data, hell_mu, 'bx')\n",
    "plt.plot(distance_data, hell_sigma, 'gx')\n",
    "print(hell_mu)\n",
    "print(hell_sigma)\n",
    "\n",
    "plt.show()"
   ]
  },
  {
   "cell_type": "code",
   "execution_count": 16,
   "metadata": {},
   "outputs": [
    {
     "data": {
      "image/png": "[encoded data removed]",
      "text/plain": [
       "<Figure size 432x288 with 1 Axes>"
      ]
     },
     "metadata": {
      "needs_background": "light"
     },
     "output_type": "display_data"
    }
   ],
   "source": [
    "import matplotlib.pyplot as plt\n",
    "\n",
    "fig0 = plt.figure()\n",
    "#plt.plot(distance_data, distance_mean_mu, 'bo')\n",
    "#plt.plot(distance_data, distance_mean_sigma, 'go')\n",
    "\n",
    "plt.plot(distance_data, hell_mu, 'bx')\n",
    "plt.plot(distance_data, hell_sigma, 'gx')\n",
    "#print(hell_mu)\n",
    "#print(hell_sigma)\n",
    "\n",
    "plt.show()"
   ]
  },
  {
   "cell_type": "code",
   "execution_count": 25,
   "metadata": {},
   "outputs": [
    {
     "data": {
      "text/plain": [
       "[<matplotlib.lines.Line2D at 0x7f92b03776a0>]"
      ]
     },
     "execution_count": 25,
     "metadata": {},
     "output_type": "execute_result"
    },
    {
     "data": {
      "image/png": "[encoded data removed]",
      "text/plain": [
       "<Figure size 432x288 with 1 Axes>"
      ]
     },
     "metadata": {
      "needs_background": "light"
     },
     "output_type": "display_data"
    }
   ],
   "source": [
    "hell_mu_normed = np.array(hell_mu)/np.array(distance_data)\n",
    "hell_sigma_normed = np.array(hell_sigma)/np.array(distance_data)\n",
    "\n",
    "plt.plot(distance_data, hell_mu_normed, 'bx')\n",
    "plt.plot(distance_data, hell_sigma_normed, 'gx')\n"
   ]
  },
  {
   "cell_type": "markdown",
   "metadata": {},
   "source": [
    "# Continuous hell distance"
   ]
  },
  {
   "cell_type": "code",
   "execution_count": null,
   "metadata": {},
   "outputs": [],
   "source": [
    "from scipy.stats import gaussian_kde\n",
    "\n",
    "\n",
    "def Gaussian_kde(X, bandwidth, eval_points, plot = False):\n",
    "    \n",
    "    #positions = np.linspace(xmin, xmax, 100)\n",
    "    kernel = gaussian_kde(X, bw_method=bandwidth)\n",
    "    y_sp = kernel.pdf(eval_points)\n",
    "    \n",
    "    if plot:\n",
    "        plt.plot(eval_points, y_sp)\n",
    "    \n",
    "    return y_sp\n",
    "\n",
    "def hell_Gaussian(y0, y1, bandwidth, n, plot = False, squeeze = True):\n",
    "    ''' Compute Hellinger distance for two accepted parameter sets.\n",
    "    :params y0, y1: data\n",
    "            step: width of bins for the histgram\n",
    "    '''\n",
    "    if squeeze:\n",
    "        y0 = np.array(np.squeeze(y0))\n",
    "        y1 = np.array(np.squeeze(y1))\n",
    "        \n",
    "    # Interval for the histogram\n",
    "    a = min(np.amin(y0), np.amin(y1))\n",
    "    b = max(np.amax(y0), np.amax(y1))\n",
    "    \n",
    "    eval_points = np.linspace(a, b, n)\n",
    "    \n",
    "    # Evaluate pdf of Gaussian kde\n",
    "    p0 = Gaussian_kde(y0, bandwidth, eval_points, plot)\n",
    "    p1 = Gaussian_kde(y1, bandwidth, eval_points, plot)\n",
    "    \n",
    " \n",
    "    # Evaluate continuous hell distance\n",
    "    step = (b-a)/(n-1)\n",
    "    d = continuous_hellinger(p0, p1, step)\n",
    "    return d\n",
    "\n",
    "def continuous_hellinger(f,g, step):\n",
    "    \"\"\"\n",
    "    Given equally spaced values of pdf f,g, calculate Hellinger distance using Trapezoidal rule.\n",
    "    \"\"\"\n",
    "    \n",
    "    sq_fg = np.sqrt(f*g)\n",
    "    \n",
    "    return 1 - step*sum(sq_fg[1:-1])-step*(1/2)*(sq_fg[0]+sq_fg[-1])\n",
    "\n",
    "def hellinger(p, q):\n",
    "    \"\"\"Hellinger distance between distributions\"\"\"\n",
    "    return np.sqrt(sum([(np.sqrt(t[0])-np.sqrt(t[1]))**2\n",
    "                for t in zip(p,q)])) / np.sqrt(2.)\n",
    "\n",
    "X = np.array(np.squeeze(params['mu']))\n",
    "Y = np.array(np.squeeze(params['sigma']))\n",
    "\n",
    "y_sp = hell_Gaussian(params['mu'], params['mu'], 0.35, n=1000, plot = True)\n",
    "print(y_sp)\n",
    "\n",
    "#Z = np.reshape(kernel(positions).T, X.shape)\n",
    "#print(kernel(3))"
   ]
  }
 ],
 "metadata": {
  "kernelspec": {
   "display_name": "Python 3 (ipykernel)",
   "language": "python",
   "name": "python3"
  },
  "language_info": {
   "codemirror_mode": {
    "name": "ipython",
    "version": 3
   },
   "file_extension": ".py",
   "mimetype": "text/x-python",
   "name": "python",
   "nbconvert_exporter": "python",
   "pygments_lexer": "ipython3",
   "version": "3.8.12"
  }
 },
 "nbformat": 4,
 "nbformat_minor": 1
}
