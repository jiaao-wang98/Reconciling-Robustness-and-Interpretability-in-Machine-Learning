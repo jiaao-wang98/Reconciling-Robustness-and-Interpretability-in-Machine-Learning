{
 "cells": [
  {
   "cell_type": "markdown",
   "metadata": {
    "pycharm": {
     "name": "#%% md\n"
    }
   },
   "source": [
    "[![Binder](https://mybinder.org/badge_logo.svg)](https://mybinder.org/v2/gh/eth-cscs/abcpy/master?filepath=examples%2Fgetting_started.ipynb)\n",
    "\n",
    "# First example of ABCpy inference scheme\n",
    "\n",
    "In this notebook we show how to use ABCpy to quantify parameter uncertainty of a probabilistic model given some observed\n",
    "dataset.\n",
    "\n",
    "## Outline\n",
    "\n",
    "We consider a simple model of group of grown up humans. Specifically, we assume a gaussian distribution to be\n",
    "an appropriate probabilistic model for these kind of observations. This gaussian distribution will have unknown mean and\n",
    "standard deviation parameters; in Bayesian inference, these parameters are considered to be random variables, to which\n",
    "a prior probability distribution is assigned.\n",
    "\n",
    "Then, we assume we have a set of measurements of height of some people, and we want to infer a probability distribution\n",
    "over the parameters. We will perform inference using Approximate Bayesian Computation (ABC), which is a Bayesian\n",
    "inference technique which only requires the ability to simulate from the model.\n",
    "\n",
    "In the following, we will walk through the steps required to do this in ABCpy. For further information, check also\n",
    "[the documentation page]() where this and other examples are presented as well."
   ]
  },
  {
   "cell_type": "markdown",
   "metadata": {
    "pycharm": {
     "name": "#%% md\n"
    }
   },
   "source": [
    "## Probabilistic model\n",
    "\n",
    "In ABCpy, the probabilistic model is defined hierarchically; here, we first defined put uniform priors on the parameters,\n",
    "which are in turn used to define the model for the height. Each element can be assigned an optional"
   ]
  },
  {
   "cell_type": "code",
   "execution_count": 1,
   "metadata": {
    "pycharm": {
     "name": "#%%\n"
    }
   },
   "outputs": [],
   "source": [
    "# define priors\n",
    "from abcpy.continuousmodels import Uniform, Normal as Gaussian\n",
    "mu = Uniform([[150], [200]], name=\"mu\")\n",
    "sigma = Uniform([[5], [25]], name=\"sigma\")\n",
    "# define the model\n",
    "height = Gaussian([mu, sigma], name='height')"
   ]
  },
  {
   "cell_type": "markdown",
   "metadata": {
    "pycharm": {
     "name": "#%% md\n"
    }
   },
   "source": [
    "Each model in ABCpy has to have a `forward_simulate` method, which generates simulations from the model with fixed\n",
    "parameter values:"
   ]
  },
  {
   "cell_type": "code",
   "execution_count": 2,
   "metadata": {
    "pycharm": {
     "name": "#%%\n"
    }
   },
   "outputs": [
    {
     "name": "stdout",
     "output_type": "stream",
     "text": [
      "[array([150.61570977]), array([235.23230224]), array([167.01126938])]\n"
     ]
    }
   ],
   "source": [
    "# generate 3 observations from the model with mean 185 and standard deviation 20\n",
    "x_sim = height.forward_simulate([185, 20], k=3)\n",
    "print(x_sim)"
   ]
  },
  {
   "cell_type": "markdown",
   "metadata": {
    "pycharm": {
     "name": "#%% md\n"
    }
   },
   "source": [
    "As you can see, the above returns a list of 3 simulations, which in this case are 1 dimensional arrays with one single\n",
    "element."
   ]
  },
  {
   "cell_type": "markdown",
   "metadata": {
    "pycharm": {
     "name": "#%% md\n"
    }
   },
   "source": [
    "## Statistics computation\n",
    "ABC algorithms rely on a measure of discrepancy between the observed dataset and the dataset which is simulated from\n",
    "the model. Often, the discrepancy\n",
    "measure is defined by computing a distance between relevant *summary statistics* extracted from the datasets. Here we\n",
    "first define a way to extract *summary statistics* from the dataset:"
   ]
  },
  {
   "cell_type": "code",
   "execution_count": 3,
   "metadata": {
    "pycharm": {
     "name": "#%%\n"
    }
   },
   "outputs": [],
   "source": [
    "from abcpy.statistics import Identity, LinearTransformation\n",
    "import numpy as np\n",
    "statistics_calculator = Identity(degree=2, cross=False)\n",
    "#statistics_calculator = LinearTransformation(degree=2, cross=False, coefficients=np.array([2]))"
   ]
  },
  {
   "cell_type": "markdown",
   "metadata": {
    "pycharm": {
     "name": "#%% md\n"
    }
   },
   "source": [
    "the above defines an `Identity` statistic, which only applies a polynomial expansion to the data up to the chosen degree\n",
    " (2 here) and optionally adds cross product terms between all the terms in each observation. Let's see how this works:"
   ]
  },
  {
   "cell_type": "code",
   "execution_count": 4,
   "metadata": {
    "pycharm": {
     "name": "#%%\n"
    }
   },
   "outputs": [
    {
     "name": "stdout",
     "output_type": "stream",
     "text": [
      "(3, 2)\n",
      "[  235.23230224 55334.23601815]\n"
     ]
    }
   ],
   "source": [
    "stat_sim = statistics_calculator.statistics(x_sim)\n",
    "print(stat_sim.shape)\n",
    "print(stat_sim[1])"
   ]
  },
  {
   "cell_type": "markdown",
   "metadata": {},
   "source": [
    "The statistic calculator returns a numpy array in which `stat_sim[i]` is the set of statistics corresponding to the\n",
    "i-th observation in `x_sim`, which in this case is composed of two elements (the first and second power of the simulated\n",
    "data).\n"
   ]
  },
  {
   "cell_type": "markdown",
   "metadata": {
    "pycharm": {
     "name": "#%% md\n"
    }
   },
   "source": [
    "## Discrepany measure\n",
    "\n",
    "Next we define the discrepancy measure between the datasets, by defining a distance function (we choose here the\n",
    "Euclidean one) between the extracted summary statistics."
   ]
  },
  {
   "cell_type": "code",
   "execution_count": 5,
   "metadata": {
    "pycharm": {
     "name": "#%%\n"
    }
   },
   "outputs": [],
   "source": [
    "from abcpy.distances import Euclidean\n",
    "distance_calculator = Euclidean(statistics_calculator)"
   ]
  },
  {
   "cell_type": "markdown",
   "metadata": {
    "pycharm": {
     "name": "#%% md\n"
    }
   },
   "source": [
    "Note that the `Distance` object takes as an argument a statistics_calculator; in fact, when calling the corresponding\n",
    "`distance` method on two dataset, the statistics are computed automatically and the distance between them evaluated:"
   ]
  },
  {
   "cell_type": "code",
   "execution_count": 6,
   "metadata": {
    "pycharm": {
     "name": "#%%\n"
    }
   },
   "outputs": [
    {
     "name": "stdout",
     "output_type": "stream",
     "text": [
      "9635.382808411905\n"
     ]
    }
   ],
   "source": [
    "# generate two observation:\n",
    "x_1 = height.forward_simulate([185, 20], k=1)\n",
    "x_2 = height.forward_simulate([170, 20], k=1)\n",
    "\n",
    "print(distance_calculator.distance(x_1, x_2))"
   ]
  },
  {
   "cell_type": "markdown",
   "metadata": {
    "pycharm": {
     "name": "#%% md\n"
    }
   },
   "source": [
    "## Inference\n",
    "\n",
    "In order to perform inference, an inference algorithm is required. However, we also need to specify a\n",
    "parallelization backend; here, we use the `BackendDummy` one, which does not parallelize and is useful for debug and\n",
    "testing; however, ABCpy allows distribution of simulations from the model through MPI and Apache Spark\n",
    "(see [here](https://abcpy.readthedocs.io/en/latest/parallelization.html))."
   ]
  },
  {
   "cell_type": "code",
   "execution_count": 7,
   "metadata": {
    "pycharm": {
     "name": "#%%\n"
    }
   },
   "outputs": [],
   "source": [
    "from abcpy.backends import BackendDummy as Backend\n",
    "backend = Backend()"
   ]
  },
  {
   "cell_type": "markdown",
   "metadata": {
    "pycharm": {
     "name": "#%% md\n"
    }
   },
   "source": [
    "Now, we define the inference algorithm. For simplicity, we use here the basic RejectionABC algorithm. Note that ABCpy implements several\n",
    "more efficient algorithms, which are listed [here](https://abcpy.readthedocs.io/en/latest/getting_started.html#inference-schemes).\n",
    "\n",
    "To instantiate an inference algorithm, we need to pass to it the model, the distance calculator that will be used\n",
    "during inference and the parallelization backed. We can also pass a seed for random numbers reproducibility:"
   ]
  },
  {
   "cell_type": "code",
   "execution_count": 8,
   "metadata": {
    "pycharm": {
     "name": "#%%\n"
    }
   },
   "outputs": [],
   "source": [
    "from abcpy.inferences import RejectionABC\n",
    "sampler = RejectionABC([height], [distance_calculator], backend, seed=1)"
   ]
  },
  {
   "cell_type": "markdown",
   "metadata": {
    "pycharm": {
     "name": "#%% md\n"
    }
   },
   "source": [
    "Note that both the model and the distance calculator have to be passed in a list; this may seem superfluous, but the\n",
    " reason is that in ABCpy it is possible to perform inference with models which describe different observations but\n",
    " depend on a common set of parameters; see more details [here](https://abcpy.readthedocs.io/en/latest/getting_started.html#hierarchical-model)."
   ]
  },
  {
   "cell_type": "markdown",
   "metadata": {
    "pycharm": {
     "name": "#%% md\n"
    }
   },
   "source": [
    "We now generate an observation from which inference is performed:"
   ]
  },
  {
   "cell_type": "code",
   "execution_count": 9,
   "metadata": {
    "pycharm": {
     "name": "#%%\n"
    }
   },
   "outputs": [],
   "source": [
    "height_obs = height.forward_simulate([170, 15], k=50)"
   ]
  },
  {
   "cell_type": "markdown",
   "metadata": {},
   "source": [
    "Finally, we perform sampling by calling the `sample` method in the sampler. We require to obtain 250 posterior samples\n",
    "(`n_sample` parameter); during the inference procedure, we generate 10 simulations for each parameter value with which\n",
    "to compute the distance from the observation. RejectionABC accepts all parameter values (generated from priors) for\n",
    "which the corresponding distance (between observation and simulated dataset) is smaller than `epsilon`:"
   ]
  },
  {
   "cell_type": "code",
   "execution_count": 13,
   "metadata": {
    "pycharm": {
     "name": "#%%\n"
    }
   },
   "outputs": [],
   "source": [
    "# this may take a while according to the setup\n",
    "n_sample, n_samples_per_param = 250, 10\n",
    "epsilon = 4500\n",
    "journal = sampler.sample([height_obs], n_sample, n_samples_per_param, epsilon)"
   ]
  },
  {
   "cell_type": "code",
   "execution_count": 14,
   "metadata": {},
   "outputs": [
    {
     "name": "stdout",
     "output_type": "stream",
     "text": [
      "Posterior mean {'mu': 170.9910546159856, 'sigma': 6.982326379893131}\n",
      "Covariance matrix:\n",
      "(array([[1.08160075e+01, 5.54680656e-03],\n",
      "       [5.54680656e-03, 3.17908593e+00]]), dict_keys(['mu', 'sigma']))\n"
     ]
    }
   ],
   "source": [
    "journal = sampler.sample([height_obs], n_sample, n_samples_per_param, epsilon)\n",
    "print(\"Posterior mean\", journal.posterior_mean())\n",
    "print(\"Covariance matrix:\")\n",
    "print(journal.posterior_cov())"
   ]
  },
  {
   "cell_type": "markdown",
   "metadata": {
    "pycharm": {
     "name": "#%% md\n"
    }
   },
   "source": [
    "Note that here again the observation is passed in a list; if we were performing inference on multiple models at once,\n",
    "the list would contain an observation for each model.\n",
    "\n",
    "## Results postprocessing\n",
    "Now, the inference results are stored in the `journal` file. We can analyse that in several ways; for instance, we can\n",
    "get the parameter posterior samples:"
   ]
  },
  {
   "cell_type": "code",
   "execution_count": 17,
   "metadata": {
    "pycharm": {
     "name": "#%%\n"
    }
   },
   "outputs": [
    {
     "name": "stdout",
     "output_type": "stream",
     "text": [
      "Number of posterior samples: 250\n",
      "10 posterior samples for mu:\n",
      "[[array([174.45260342])], [array([173.92848122])], [array([173.16049939])], [array([175.41683212])], [array([180.42515852])], [array([175.30873175])], [array([172.82947818])], [array([173.67443167])], [array([167.34671269])], [array([172.0647703])]]\n"
     ]
    }
   ],
   "source": [
    "params = journal.get_parameters()  # this returns a dict whose keys are parameter names\n",
    "print(\"Number of posterior samples: {}\".format(len(params['mu'])))\n",
    "print(\"10 posterior samples for mu:\")\n",
    "print(params['mu'][0:10])"
   ]
  },
  {
   "cell_type": "markdown",
   "metadata": {
    "pycharm": {
     "name": "#%% md\n"
    }
   },
   "source": [
    "We can also get the posterior mean and covariance matrix:"
   ]
  },
  {
   "cell_type": "code",
   "execution_count": 18,
   "metadata": {
    "pycharm": {
     "name": "#%%\n"
    }
   },
   "outputs": [
    {
     "name": "stdout",
     "output_type": "stream",
     "text": [
      "Posterior mean {'mu': 172.9204442273269, 'sigma': 6.906876833633767}\n",
      "Covariance matrix:\n",
      "(array([[11.39180464,  0.36889678],\n",
      "       [ 0.36889678,  3.35424195]]), dict_keys(['mu', 'sigma']))\n"
     ]
    }
   ],
   "source": [
    "print(\"Posterior mean\", journal.posterior_mean())\n",
    "print(\"Covariance matrix:\")\n",
    "print(journal.posterior_cov())"
   ]
  },
  {
   "cell_type": "markdown",
   "metadata": {
    "pycharm": {
     "name": "#%% md\n"
    }
   },
   "source": [
    "The journal also stores the configuration of the sampler with which it was generated:"
   ]
  },
  {
   "cell_type": "code",
   "execution_count": 19,
   "metadata": {
    "pycharm": {
     "name": "#%%\n"
    }
   },
   "outputs": [
    {
     "name": "stdout",
     "output_type": "stream",
     "text": [
      "{'n_samples': 250, 'n_samples_per_param': 10, 'epsilon': 5000, 'type_model': ['Normal'], 'type_dist_func': ['Euclidean'], 'full_output': 0}\n"
     ]
    }
   ],
   "source": [
    "print(journal.configuration)"
   ]
  },
  {
   "cell_type": "markdown",
   "metadata": {
    "pycharm": {
     "name": "#%% md\n"
    }
   },
   "source": [
    "Finally, we have a function to plot a kernel density estimate of the obtained posterior; this function has many\n",
    "arguments, allowing to get custom plots:"
   ]
  },
  {
   "cell_type": "code",
   "execution_count": 20,
   "metadata": {
    "pycharm": {
     "name": "#%%\n"
    }
   },
   "outputs": [
    {
     "name": "stderr",
     "output_type": "stream",
     "text": [
      "/Users/jiaao/Documents/GitHub/Reconciling-Robustness-and-Interpretability-in-Machine-Learning/abcpy/output.py:663: MatplotlibDeprecationWarning: \n",
      "The is_first_col function was deprecated in Matplotlib 3.4 and will be removed two minor releases later. Use ax.get_subplotspec().is_first_col() instead.\n",
      "  if ax.is_first_col():\n",
      "/Users/jiaao/Documents/GitHub/Reconciling-Robustness-and-Interpretability-in-Machine-Learning/abcpy/output.py:665: MatplotlibDeprecationWarning: \n",
      "The is_last_col function was deprecated in Matplotlib 3.4 and will be removed two minor releases later. Use ax.get_subplotspec().is_last_col() instead.\n",
      "  if ax.is_last_col():\n",
      "/Users/jiaao/Documents/GitHub/Reconciling-Robustness-and-Interpretability-in-Machine-Learning/abcpy/output.py:667: MatplotlibDeprecationWarning: \n",
      "The is_first_row function was deprecated in Matplotlib 3.4 and will be removed two minor releases later. Use ax.get_subplotspec().is_first_row() instead.\n",
      "  if ax.is_first_row():\n",
      "/Users/jiaao/Documents/GitHub/Reconciling-Robustness-and-Interpretability-in-Machine-Learning/abcpy/output.py:669: MatplotlibDeprecationWarning: \n",
      "The is_last_row function was deprecated in Matplotlib 3.4 and will be removed two minor releases later. Use ax.get_subplotspec().is_last_row() instead.\n",
      "  if ax.is_last_row():\n"
     ]
    },
    {
     "data": {
      "text/plain": [
       "(<Figure size 576x576 with 4 Axes>,\n",
       " array([[<AxesSubplot:title={'center':'mu'}, ylabel='mu'>,\n",
       "         <AxesSubplot:title={'center':'sigma'}>],\n",
       "        [<AxesSubplot:xlabel='mu', ylabel='sigma'>,\n",
       "         <AxesSubplot:xlabel='sigma'>]], dtype=object))"
      ]
     },
     "execution_count": 20,
     "metadata": {},
     "output_type": "execute_result"
    },
    {
     "data": {
      "image/png": "[encoded data removed]",
      "text/plain": [
       "<Figure size 576x576 with 4 Axes>"
      ]
     },
     "metadata": {
      "needs_background": "light"
     },
     "output_type": "display_data"
    }
   ],
   "source": [
    "journal.plot_posterior_distr(true_parameter_values=[170,15])"
   ]
  },
  {
   "cell_type": "markdown",
   "metadata": {
    "pycharm": {
     "name": "#%% md\n"
    }
   },
   "source": [
    "Also, we can save the journal to disk and reload it later:\n"
   ]
  },
  {
   "cell_type": "code",
   "execution_count": 15,
   "metadata": {
    "pycharm": {
     "name": "#%%\n"
    }
   },
   "outputs": [],
   "source": [
    "from abcpy.output import Journal\n",
    "journal.save(\"experiments.jnl\")\n",
    "new_journal = Journal.fromFile('experiments.jnl')"
   ]
  },
  {
   "cell_type": "markdown",
   "metadata": {},
   "source": [
    "# Experiments to improve the result"
   ]
  },
  {
   "cell_type": "code",
   "execution_count": 1,
   "metadata": {},
   "outputs": [],
   "source": [
    "from abcpy.continuousmodels import Uniform, Normal as Gaussian\n",
    "from abcpy.statistics import Identity, LinearTransformation\n",
    "import numpy as np\n",
    "from abcpy.distances import Euclidean\n",
    "from abcpy.backends import BackendDummy as Backend\n",
    "from abcpy.inferences import RejectionABC\n",
    "\n",
    "# define priors\n",
    "mu = Uniform([[150], [200]], name=\"mu\")\n",
    "sigma = Uniform([[5], [25]], name=\"sigma\")\n",
    "# define the model\n",
    "height = Gaussian([mu, sigma], name='height')\n",
    "\n",
    "statistics_calculator = Identity(degree=2, cross=False)\n",
    "distance_calculator = Euclidean(statistics_calculator)\n",
    "backend = Backend()\n",
    "\n",
    "sampler = RejectionABC([height], [distance_calculator], backend, seed=1)\n",
    "\n",
    "height_obs = height.forward_simulate([170, 15], k=50)"
   ]
  },
  {
   "cell_type": "code",
   "execution_count": 4,
   "metadata": {},
   "outputs": [
    {
     "name": "stdout",
     "output_type": "stream",
     "text": [
      "Posterior mean {'mu': 174.082358109774, 'sigma': 9.896525105115025}\n",
      "Covariance matrix:\n",
      "(array([[41.10626216,  0.56391029],\n",
      "       [ 0.56391029, 11.39813444]]), dict_keys(['mu', 'sigma']))\n",
      "Posterior mean {'mu': 173.83917055465642, 'sigma': 9.687284610823793}\n",
      "Covariance matrix:\n",
      "(array([[50.45603079, -0.55852689],\n",
      "       [-0.55852689, 14.51555156]]), dict_keys(['mu', 'sigma']))\n",
      "Posterior mean {'mu': 174.15828005466713, 'sigma': 10.001145343308574}\n",
      "Covariance matrix:\n",
      "(array([[44.07811931,  1.77485313],\n",
      "       [ 1.77485313, 13.69988849]]), dict_keys(['mu', 'sigma']))\n",
      "Posterior mean {'mu': 175.0609435894026, 'sigma': 9.52964254591091}\n",
      "Covariance matrix:\n",
      "(array([[45.95145524, -0.76151904],\n",
      "       [-0.76151904, 11.62176245]]), dict_keys(['mu', 'sigma']))\n",
      "Posterior mean {'mu': 174.4322950114626, 'sigma': 9.801025571754039}\n",
      "Covariance matrix:\n",
      "(array([[42.41921684,  0.97114856],\n",
      "       [ 0.97114856, 12.24645914]]), dict_keys(['mu', 'sigma']))\n",
      "Posterior mean {'mu': 173.88641140653039, 'sigma': 10.105441905714764}\n",
      "Covariance matrix:\n",
      "(array([[44.05306004,  1.41995491],\n",
      "       [ 1.41995491, 14.26854639]]), dict_keys(['mu', 'sigma']))\n",
      "Posterior mean {'mu': 174.02048149969468, 'sigma': 10.33904296203491}\n",
      "Covariance matrix:\n",
      "(array([[42.71065372,  1.18543734],\n",
      "       [ 1.18543734, 15.6321555 ]]), dict_keys(['mu', 'sigma']))\n",
      "Posterior mean {'mu': 174.41779998873335, 'sigma': 9.899830166188835}\n",
      "Covariance matrix:\n",
      "(array([[39.92402425,  0.14948013],\n",
      "       [ 0.14948013, 16.83238459]]), dict_keys(['mu', 'sigma']))\n",
      "Posterior mean {'mu': 174.33148651861524, 'sigma': 9.765011671637625}\n",
      "Covariance matrix:\n",
      "(array([[44.79126657, -1.38527752],\n",
      "       [-1.38527752, 13.66184644]]), dict_keys(['mu', 'sigma']))\n",
      "Posterior mean {'mu': 174.6636801163647, 'sigma': 10.23540555203797}\n",
      "Covariance matrix:\n",
      "(array([[40.34133447, -1.73242348],\n",
      "       [-1.73242348, 13.82483335]]), dict_keys(['mu', 'sigma']))\n"
     ]
    }
   ],
   "source": [
    "# Try 100 times\n",
    "\n",
    "n_sample, n_samples_per_param = 250, 10\n",
    "epsilon = 5000\n",
    "\n",
    "for i in range(10):\n",
    "    journal = sampler.sample([height_obs], n_sample, n_samples_per_param, epsilon)\n",
    "    print(\"Posterior mean\", journal.posterior_mean())\n",
    "    print(\"Covariance matrix:\")\n",
    "    print(journal.posterior_cov())"
   ]
  },
  {
   "cell_type": "code",
   "execution_count": 5,
   "metadata": {},
   "outputs": [],
   "source": [
    "# define priors\n",
    "mu = Uniform([[150], [200]], name=\"mu\")\n",
    "sigma = Uniform([[5], [25]], name=\"sigma\")\n",
    "# define the model\n",
    "height = Gaussian([mu, sigma], name='height')\n",
    "\n",
    "statistics_calculator = Identity(degree=2, cross=False)\n",
    "distance_calculator = Euclidean(statistics_calculator)\n",
    "backend = Backend()\n",
    "\n",
    "sampler = RejectionABC([height], [distance_calculator], backend, seed=1)\n",
    "\n",
    "height_obs = height.forward_simulate([170, 15], k=50)"
   ]
  },
  {
   "cell_type": "code",
   "execution_count": 6,
   "metadata": {
    "scrolled": false
   },
   "outputs": [
    {
     "name": "stdout",
     "output_type": "stream",
     "text": [
      "Posterior mean {'mu': 170.6988724876613, 'sigma': 9.44350588271045}\n",
      "Covariance matrix:\n",
      "(array([[39.5407604 , -2.41831168],\n",
      "       [-2.41831168, 12.79642855]]), dict_keys(['mu', 'sigma']))\n",
      "Posterior mean {'mu': 169.5579235796013, 'sigma': 9.3911871125684}\n",
      "Covariance matrix:\n",
      "(array([[40.95262594, -0.69749393],\n",
      "       [-0.69749393, 10.21814037]]), dict_keys(['mu', 'sigma']))\n",
      "Posterior mean {'mu': 170.72741861141932, 'sigma': 9.38092926554344}\n",
      "Covariance matrix:\n",
      "(array([[39.50183866, -1.32462216],\n",
      "       [-1.32462216, 12.00578552]]), dict_keys(['mu', 'sigma']))\n",
      "Posterior mean {'mu': 169.89214768098708, 'sigma': 9.695339564603016}\n",
      "Covariance matrix:\n",
      "(array([[41.95361173, -1.08807148],\n",
      "       [-1.08807148, 14.08547688]]), dict_keys(['mu', 'sigma']))\n",
      "Posterior mean {'mu': 170.03590448306005, 'sigma': 9.756190671741049}\n",
      "Covariance matrix:\n",
      "(array([[40.26777121,  1.54237023],\n",
      "       [ 1.54237023, 13.53644171]]), dict_keys(['mu', 'sigma']))\n",
      "Posterior mean {'mu': 169.93372593548875, 'sigma': 9.503251245410043}\n",
      "Covariance matrix:\n",
      "(array([[40.22416213,  0.78702344],\n",
      "       [ 0.78702344, 12.99363295]]), dict_keys(['mu', 'sigma']))\n",
      "Posterior mean {'mu': 170.08648634809575, 'sigma': 9.846144157950468}\n",
      "Covariance matrix:\n",
      "(array([[42.10557629,  1.156811  ],\n",
      "       [ 1.156811  , 13.74012539]]), dict_keys(['mu', 'sigma']))\n",
      "Posterior mean {'mu': 169.8789688713075, 'sigma': 9.571716377598227}\n",
      "Covariance matrix:\n",
      "(array([[38.41358119, -1.38137181],\n",
      "       [-1.38137181, 10.90175769]]), dict_keys(['mu', 'sigma']))\n",
      "Posterior mean {'mu': 169.46296038446962, 'sigma': 9.810697567969223}\n",
      "Covariance matrix:\n",
      "(array([[47.67623981,  1.8293893 ],\n",
      "       [ 1.8293893 , 13.13479184]]), dict_keys(['mu', 'sigma']))\n",
      "Posterior mean {'mu': 169.60338923826666, 'sigma': 9.619173218081578}\n",
      "Covariance matrix:\n",
      "(array([[39.45600489,  1.8532288 ],\n",
      "       [ 1.8532288 , 12.14444832]]), dict_keys(['mu', 'sigma']))\n"
     ]
    }
   ],
   "source": [
    "for i in range(10):\n",
    "    journal = sampler.sample([height_obs], n_sample, n_samples_per_param, epsilon)\n",
    "    print(\"Posterior mean\", journal.posterior_mean())\n",
    "    print(\"Covariance matrix:\")\n",
    "    print(journal.posterior_cov())"
   ]
  },
  {
   "cell_type": "markdown",
   "metadata": {},
   "source": [
    "Now we can change some hyper-parameters."
   ]
  },
  {
   "cell_type": "code",
   "execution_count": 11,
   "metadata": {},
   "outputs": [],
   "source": [
    "# define priors\n",
    "mu = Uniform([[150], [200]], name=\"mu\")\n",
    "sigma = Uniform([[9], [20]], name=\"sigma\")\n",
    "# define the model\n",
    "height = Gaussian([mu, sigma], name='height')\n",
    "\n",
    "statistics_calculator = Identity(degree=2, cross=False)\n",
    "distance_calculator = Euclidean(statistics_calculator)\n",
    "backend = Backend()\n",
    "\n",
    "sampler = RejectionABC([height], [distance_calculator], backend, seed=1)\n",
    "\n",
    "height_obs = height.forward_simulate([170, 15], k=50)"
   ]
  },
  {
   "cell_type": "code",
   "execution_count": 8,
   "metadata": {},
   "outputs": [
    {
     "name": "stdout",
     "output_type": "stream",
     "text": [
      "Posterior mean {'mu': 172.79381997211672, 'sigma': 11.876557038190164}\n",
      "Covariance matrix:\n",
      "(array([[37.57572185, -1.28711643],\n",
      "       [-1.28711643,  6.68289134]]), dict_keys(['mu', 'sigma']))\n",
      "Posterior mean {'mu': 171.89233062714183, 'sigma': 12.039562236215417}\n",
      "Covariance matrix:\n",
      "(array([[33.9783512 ,  0.79250043],\n",
      "       [ 0.79250043,  6.2438972 ]]), dict_keys(['mu', 'sigma']))\n",
      "Posterior mean {'mu': 172.65862557296012, 'sigma': 11.799172744204593}\n",
      "Covariance matrix:\n",
      "(array([[32.91813058, -1.03175197],\n",
      "       [-1.03175197,  5.37024955]]), dict_keys(['mu', 'sigma']))\n",
      "Posterior mean {'mu': 171.79844679012695, 'sigma': 12.098152999625126}\n",
      "Covariance matrix:\n",
      "(array([[40.95004919,  0.1451407 ],\n",
      "       [ 0.1451407 ,  7.17654101]]), dict_keys(['mu', 'sigma']))\n",
      "Posterior mean {'mu': 171.89345146839105, 'sigma': 12.11374237529622}\n",
      "Covariance matrix:\n",
      "(array([[37.72134773,  1.18121986],\n",
      "       [ 1.18121986,  6.16888544]]), dict_keys(['mu', 'sigma']))\n",
      "Posterior mean {'mu': 171.99882609505923, 'sigma': 11.995573229849605}\n",
      "Covariance matrix:\n",
      "(array([[37.27914622,  0.31989949],\n",
      "       [ 0.31989949,  5.75961453]]), dict_keys(['mu', 'sigma']))\n",
      "Posterior mean {'mu': 171.75061554537194, 'sigma': 12.127868905266329}\n",
      "Covariance matrix:\n",
      "(array([[33.81969884,  0.23374457],\n",
      "       [ 0.23374457,  6.09693818]]), dict_keys(['mu', 'sigma']))\n",
      "Posterior mean {'mu': 171.85008634871366, 'sigma': 12.011507564164582}\n",
      "Covariance matrix:\n",
      "(array([[30.53804776, -0.06472276],\n",
      "       [-0.06472276,  5.66053035]]), dict_keys(['mu', 'sigma']))\n",
      "Posterior mean {'mu': 172.06209379932315, 'sigma': 11.9785128585042}\n",
      "Covariance matrix:\n",
      "(array([[40.36931306, -0.74133511],\n",
      "       [-0.74133511,  5.67295805]]), dict_keys(['mu', 'sigma']))\n",
      "Posterior mean {'mu': 172.25051559002353, 'sigma': 12.451926760484778}\n",
      "Covariance matrix:\n",
      "(array([[32.83325697,  1.61453976],\n",
      "       [ 1.61453976,  7.42262896]]), dict_keys(['mu', 'sigma']))\n"
     ]
    }
   ],
   "source": [
    "for i in range(10):\n",
    "    journal = sampler.sample([height_obs], n_sample, n_samples_per_param, epsilon)\n",
    "    print(\"Posterior mean\", journal.posterior_mean())\n",
    "    print(\"Covariance matrix:\")\n",
    "    print(journal.posterior_cov())"
   ]
  },
  {
   "cell_type": "code",
   "execution_count": 2,
   "metadata": {},
   "outputs": [],
   "source": [
    "from abcpy.continuousmodels import Uniform, Normal as Gaussian\n",
    "from abcpy.statistics import Identity, LinearTransformation\n",
    "import numpy as np\n",
    "from abcpy.distances import Euclidean\n",
    "from abcpy.backends import BackendDummy as Backend\n",
    "from abcpy.inferences import RejectionABC\n",
    "\n",
    "# define priors\n",
    "mu = Uniform([[150], [200]], name=\"mu\")\n",
    "sigma = Uniform([[9], [20]], name=\"sigma\")\n",
    "# define the model\n",
    "height = Gaussian([mu, sigma], name='height')\n",
    "\n",
    "statistics_calculator = Identity(degree=2, cross=False)\n",
    "distance_calculator = Euclidean(statistics_calculator)\n",
    "backend = Backend()\n",
    "\n",
    "sampler = RejectionABC([height], [distance_calculator], backend, seed=1)\n",
    "\n",
    "height_obs = height.forward_simulate([170, 15], k=50)"
   ]
  },
  {
   "cell_type": "code",
   "execution_count": 3,
   "metadata": {},
   "outputs": [
    {
     "name": "stdout",
     "output_type": "stream",
     "text": [
      "Posterior mean {'mu': 168.4240167715241, 'sigma': 12.508170830012038}\n",
      "Covariance matrix:\n",
      "(array([[46.64606622,  0.29324402],\n",
      "       [ 0.29324402,  6.99693676]]), dict_keys(['mu', 'sigma']))\n",
      "Posterior mean {'mu': 167.3236015613427, 'sigma': 12.514111112977224}\n",
      "Covariance matrix:\n",
      "(array([[44.74614526, -0.63807765],\n",
      "       [-0.63807765,  6.46171534]]), dict_keys(['mu', 'sigma']))\n",
      "Posterior mean {'mu': 167.12310142529327, 'sigma': 12.529823568286142}\n",
      "Covariance matrix:\n",
      "(array([[49.667755  , -1.73413511],\n",
      "       [-1.73413511,  7.18426007]]), dict_keys(['mu', 'sigma']))\n",
      "Posterior mean {'mu': 166.37081388915416, 'sigma': 12.903049812326088}\n",
      "Covariance matrix:\n",
      "(array([[44.77934554, -1.34030285],\n",
      "       [-1.34030285,  8.33594468]]), dict_keys(['mu', 'sigma']))\n",
      "Posterior mean {'mu': 166.68906871743573, 'sigma': 12.695831740386009}\n",
      "Covariance matrix:\n",
      "(array([[45.02798914, -0.22259543],\n",
      "       [-0.22259543,  7.02127114]]), dict_keys(['mu', 'sigma']))\n",
      "Posterior mean {'mu': 166.39428534782195, 'sigma': 12.509126210123505}\n",
      "Covariance matrix:\n",
      "(array([[43.27536919,  0.83781447],\n",
      "       [ 0.83781447,  5.96983923]]), dict_keys(['mu', 'sigma']))\n",
      "Posterior mean {'mu': 166.62222070991683, 'sigma': 12.53548169592706}\n",
      "Covariance matrix:\n",
      "(array([[43.59813834, -0.33685579],\n",
      "       [-0.33685579,  6.71674399]]), dict_keys(['mu', 'sigma']))\n",
      "Posterior mean {'mu': 166.95288520408695, 'sigma': 12.438251460502}\n",
      "Covariance matrix:\n",
      "(array([[42.41089911,  1.26408279],\n",
      "       [ 1.26408279,  7.26351443]]), dict_keys(['mu', 'sigma']))\n",
      "Posterior mean {'mu': 166.89392616490397, 'sigma': 12.576082360853048}\n",
      "Covariance matrix:\n",
      "(array([[43.00233254, -1.18887287],\n",
      "       [-1.18887287,  7.4869645 ]]), dict_keys(['mu', 'sigma']))\n",
      "Posterior mean {'mu': 167.30005775499146, 'sigma': 12.811613171298225}\n",
      "Covariance matrix:\n",
      "(array([[43.29038877,  1.96070038],\n",
      "       [ 1.96070038,  6.77595059]]), dict_keys(['mu', 'sigma']))\n"
     ]
    }
   ],
   "source": [
    "# Try 100 times\n",
    "\n",
    "n_sample, n_samples_per_param = 250, 10\n",
    "epsilon = 5000\n",
    "\n",
    "for i in range(10):\n",
    "    journal = sampler.sample([height_obs], n_sample, n_samples_per_param, epsilon)\n",
    "    print(\"Posterior mean\", journal.posterior_mean())\n",
    "    print(\"Covariance matrix:\")\n",
    "    print(journal.posterior_cov())"
   ]
  },
  {
   "cell_type": "code",
   "execution_count": null,
   "metadata": {},
   "outputs": [],
   "source": [
    "# Try 100 times\n",
    "\n",
    "n_sample, n_samples_per_param = 250, 10\n",
    "epsilon = 4500\n",
    "\n",
    "for i in range(10):\n",
    "    journal = sampler.sample([height_obs], n_sample, n_samples_per_param, epsilon)\n",
    "    print(\"Posterior mean\", journal.posterior_mean())\n",
    "    print(\"Covariance matrix:\")\n",
    "    print(journal.posterior_cov())"
   ]
  },
  {
   "cell_type": "code",
   "execution_count": null,
   "metadata": {},
   "outputs": [],
   "source": []
  }
 ],
 "metadata": {
  "kernelspec": {
   "display_name": "Python 3 (ipykernel)",
   "language": "python",
   "name": "python3"
  },
  "language_info": {
   "codemirror_mode": {
    "name": "ipython",
    "version": 3
   },
   "file_extension": ".py",
   "mimetype": "text/x-python",
   "name": "python",
   "nbconvert_exporter": "python",
   "pygments_lexer": "ipython3",
   "version": "3.8.12"
  }
 },
 "nbformat": 4,
 "nbformat_minor": 1
}
