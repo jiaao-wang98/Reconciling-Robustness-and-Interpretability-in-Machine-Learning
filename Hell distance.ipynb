{
 "cells": [
  {
   "cell_type": "code",
   "execution_count": 1,
   "id": "bb7b74bb",
   "metadata": {},
   "outputs": [],
   "source": [
    "def hell(y0, y1, step = 0.2):\n",
    "    ''' Compute hell distance for two data sets.\n",
    "    :params y0, y1: data\n",
    "            step: width of bins for the histgram\n",
    "    '''\n",
    "    # Interval for the histogram\n",
    "    a = min(np.amin(y0), np.amin(y1))\n",
    "    b = max(np.amax(y0), np.amax(y1))\n",
    "    \n",
    "    # generate histgrams for the two data sets\n",
    "    hist0 = np.histogram(y0, bins = np.arange(a, b, step), density = True)\n",
    "    hist1 = np.histogram(y1, bins = np.arange(a, b, step), density = True)\n",
    "    \n",
    "    return hellinger(hist0[0]/100, hist1[0]/100)\n",
    "\n",
    "def hellinger(p, q):\n",
    "    \"\"\"Hellinger distance between distributions\"\"\"\n",
    "    return np.sqrt(sum([(np.sqrt(t[0])-np.sqrt(t[1]))**2\n",
    "                for t in zip(p,q)])) / np.sqrt(2.)"
   ]
  },
  {
   "cell_type": "markdown",
   "id": "adb41b75",
   "metadata": {},
   "source": [
    "Now instead of generate new observed data, we only make small changes to the original observed data and see the sensibility."
   ]
  },
  {
   "cell_type": "code",
   "execution_count": 33,
   "id": "f894e7c6",
   "metadata": {},
   "outputs": [
    {
     "name": "stdout",
     "output_type": "stream",
     "text": [
      "Posterior mean {'mu': 169.73572849024512, 'sigma': 10.52028255131848}\n",
      "Covariance matrix:\n",
      "(array([[53.37330132, -1.38026238],\n",
      "       [-1.38026238, 17.28956187]]), dict_keys(['mu', 'sigma']))\n"
     ]
    }
   ],
   "source": [
    "from abcpy.continuousmodels import Uniform, Normal as Gaussian\n",
    "from abcpy.statistics import Identity, LinearTransformation\n",
    "import numpy as np\n",
    "from abcpy.distances import Euclidean\n",
    "from abcpy.backends import BackendDummy as Backend\n",
    "from abcpy.inferences import RejectionABC\n",
    "\n",
    "# define priors\n",
    "mu = Uniform([[150], [200]], name=\"mu\")\n",
    "sigma = Uniform([[5], [25]], name=\"sigma\")\n",
    "# define the model\n",
    "height = Gaussian([mu, sigma], name='height')\n",
    "\n",
    "statistics_calculator = Identity(degree=2, cross=False)\n",
    "distance_calculator = Euclidean(statistics_calculator)\n",
    "backend = Backend()\n",
    "\n",
    "sampler = RejectionABC([height], [distance_calculator], backend, seed=1)\n",
    "\n",
    "# Try 100 times\n",
    "\n",
    "n_sample, n_samples_per_param = 250, 15\n",
    "epsilon = 5000\n",
    "\n",
    "height_obs0 = height.forward_simulate([170, 10], k=50)\n",
    "journal0 = sampler.sample([height_obs0], n_sample, n_samples_per_param, epsilon)\n",
    "params0= journal0.get_parameters()\n",
    "print(\"Posterior mean\", journal0.posterior_mean())\n",
    "print(\"Covariance matrix:\")\n",
    "print(journal0.posterior_cov())\n",
    "#print(2*np.sqrt(journal.posterior_cov()[0][1][1]))\n",
    "distance_data = []\n",
    "distance_mean_mu = []\n",
    "distance_mean_sigma = []\n",
    "hell_mu = []\n",
    "hell_sigma = []\n",
    "\n",
    "# change of the observed data\n",
    "e = 1\n",
    "\n",
    "\n",
    "for i in range(len(height_obs0)):\n",
    "    # move the observed data slightly\n",
    "    height_obs = height_obs0*1\n",
    "    height_obs[i] = height_obs[i]+1\n",
    "    distance_data.append(np.linalg.norm(np.array(height_obs) - np.array(height_obs0)))\n",
    "    journal = sampler.sample([height_obs], n_sample, n_samples_per_param, epsilon)\n",
    "    #print(\"Posterior mean\", journal.posterior_mean())\n",
    "    #print(\"Covariance matrix:\")\n",
    "    #print(journal.posterior_cov())\n",
    "    #print(2*np.sqrt(journal.posterior_cov()[0][1][1]))\n",
    "    \n",
    "    distance_mean_mu.append(np.linalg.norm(journal.posterior_mean()['mu'] - journal0.posterior_mean()['mu']))\n",
    "    distance_mean_sigma.append(np.linalg.norm(journal.posterior_mean()['sigma'] - journal0.posterior_mean()['sigma']))\n",
    "    params = journal.get_parameters()\n",
    "    \n",
    "    hell_mu.append(hell(params0['mu'], params['mu']))\n",
    "    hell_sigma.append(hell(params0['sigma'], params['sigma']))"
   ]
  },
  {
   "cell_type": "code",
   "execution_count": 35,
   "id": "d2d4b50f",
   "metadata": {},
   "outputs": [
    {
     "data": {
      "image/png": "[encoded data removed]",
      "text/plain": [
       "<Figure size 432x288 with 1 Axes>"
      ]
     },
     "metadata": {
      "needs_background": "light"
     },
     "output_type": "display_data"
    }
   ],
   "source": [
    "import matplotlib.pyplot as plt\n",
    "\n",
    "fig0 = plt.figure()\n",
    "#plt.plot(distance_data, distance_mean_mu, 'bo')\n",
    "#plt.plot(distance_data, distance_mean_sigma, 'go')\n",
    "\n",
    "plt.plot(distance_data, hell_mu, 'bx')\n",
    "plt.plot(distance_data, hell_sigma, 'gx')\n",
    "#print(hell_mu)\n",
    "#print(hell_sigma)\n",
    "\n",
    "plt.show()"
   ]
  },
  {
   "cell_type": "code",
   "execution_count": null,
   "id": "a77e4999",
   "metadata": {},
   "outputs": [],
   "source": []
  }
 ],
 "metadata": {
  "kernelspec": {
   "display_name": "Python 3 (ipykernel)",
   "language": "python",
   "name": "python3"
  },
  "language_info": {
   "codemirror_mode": {
    "name": "ipython",
    "version": 3
   },
   "file_extension": ".py",
   "mimetype": "text/x-python",
   "name": "python",
   "nbconvert_exporter": "python",
   "pygments_lexer": "ipython3",
   "version": "3.8.12"
  }
 },
 "nbformat": 4,
 "nbformat_minor": 5
}
